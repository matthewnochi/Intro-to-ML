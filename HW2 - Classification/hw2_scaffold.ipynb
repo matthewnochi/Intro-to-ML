{
    "metadata": {
        "kernelspec": {
            "name": "python3",
            "display_name": "Python 3 (ipykernel)",
            "language": "python"
        }
    },
    "nbformat": 4,
    "nbformat_minor": 1,
    "cells": [
        {
            "attachments": {},
            "cell_type": "markdown",
            "metadata": {},
            "source": [
                "# Predicting sentiment from product reviews\n",
                "\n",
                "The goal of this first notebook is to explore logistic regression and feature engineering with sklearn.\n",
                "\n",
                "In this notebook you will use product review data from Amazon.com to predict whether the sentiments about a product (from its reviews) are positive or negative. Specifically, you will:\n",
                "\n",
                "* Use a Pandas Dataframes to do feature engineering\n",
                "* Train a logistic regression model to predict the sentiment of product reviews.\n",
                "* Inspect the weights (coefficients) of a trained logistic regression model.\n",
                "* Make a prediction (both class and probability) of sentiment for a new product review.\n",
                "* Given a classifier, create a confusion matrix\n",
                "* Compare multiple logistic regression models.\n",
                "\n",
                "\n",
                "Copyright ©2023 Emily Fox, Hunter Schafer, Valentina Staneva.  All rights reserved.  Permission is hereby granted to students registered for University of Washington CSE/STAT 416 for use solely during Spring Quarter 2024 for purposes of the course.  No other use, copying, distribution, or modification is permitted without prior written consent. Copyrights for third-party components of this work must be honored.  Instructors interested in reusing these course materials should contact the author.\n",
                ""
            ]
        },
        {
            "cell_type": "code",
            "execution_count": 130,
            "metadata": {},
            "outputs": [],
            "source": [
                "import math\n",
                "import string\n",
                "\n",
                "import matplotlib.pyplot as plt\n",
                "import numpy as np\n",
                "import pandas as pd\n",
                "import seaborn as sns\n",
                "\n",
                "from sklearn.linear_model import LogisticRegression\n",
                "from sklearn.metrics import accuracy_score\n",
                "from sklearn.model_selection import train_test_split\n",
                "from sklearn.feature_extraction.text import CountVectorizer\n",
                "from sklearn.feature_extraction import DictVectorizer\n",
                "\n",
                "sns.set()\n",
                "%matplotlib inline"
            ]
        },
        {
            "attachments": {},
            "cell_type": "markdown",
            "metadata": {},
            "source": [
                "# Data preparation\n",
                "\n",
                "We will use a dataset consisting of food product reviews on Amazon.com [source](http://jmcauley.ucsd.edu/data/amazon/).\n",
                "\n",
                "**NOTE**: Be sure to run every cell in the notebook! The `###SKIP` is for the autograder. "
            ]
        },
        {
            "cell_type": "code",
            "execution_count": 131,
            "metadata": {},
            "outputs": [
                {
                    "data": {
                        "text/html": "\u003cdiv\u003e\n\u003cstyle scoped\u003e\n    .dataframe tbody tr th:only-of-type {\n        vertical-align: middle;\n    }\n\n    .dataframe tbody tr th {\n        vertical-align: top;\n    }\n\n    .dataframe thead th {\n        text-align: right;\n    }\n\u003c/style\u003e\n\u003ctable border=\"1\" class=\"dataframe\"\u003e\n  \u003cthead\u003e\n    \u003ctr style=\"text-align: right;\"\u003e\n      \u003cth\u003e\u003c/th\u003e\n      \u003cth\u003eproduct_id\u003c/th\u003e\n      \u003cth\u003esummary\u003c/th\u003e\n      \u003cth\u003ereview\u003c/th\u003e\n      \u003cth\u003erating\u003c/th\u003e\n    \u003c/tr\u003e\n  \u003c/thead\u003e\n  \u003ctbody\u003e\n    \u003ctr\u003e\n      \u003cth\u003e0\u003c/th\u003e\n      \u003ctd\u003e4408\u003c/td\u003e\n      \u003ctd\u003eDoes increase milk supply\u003c/td\u003e\n      \u003ctd\u003eThis really helped to increase my milk supply....\u003c/td\u003e\n      \u003ctd\u003e3.0\u003c/td\u003e\n    \u003c/tr\u003e\n    \u003ctr\u003e\n      \u003cth\u003e1\u003c/th\u003e\n      \u003ctd\u003e4209\u003c/td\u003e\n      \u003ctd\u003eOne bad packet ruins the product!\u003c/td\u003e\n      \u003ctd\u003eI should have stayed with Idahoan brand. Poor ...\u003c/td\u003e\n      \u003ctd\u003e1.0\u003c/td\u003e\n    \u003c/tr\u003e\n    \u003ctr\u003e\n      \u003cth\u003e2\u003c/th\u003e\n      \u003ctd\u003e8623\u003c/td\u003e\n      \u003ctd\u003eCAULIFLOWER PASTA!?\u003c/td\u003e\n      \u003ctd\u003eAs the pasta cooked, I read the box to see wha...\u003c/td\u003e\n      \u003ctd\u003e4.0\u003c/td\u003e\n    \u003c/tr\u003e\n    \u003ctr\u003e\n      \u003cth\u003e3\u003c/th\u003e\n      \u003ctd\u003e9439\u003c/td\u003e\n      \u003ctd\u003eTasty and inexpensive\u003c/td\u003e\n      \u003ctd\u003eI really like this cereal. The flavor is sligh...\u003c/td\u003e\n      \u003ctd\u003e5.0\u003c/td\u003e\n    \u003c/tr\u003e\n    \u003ctr\u003e\n      \u003cth\u003e4\u003c/th\u003e\n      \u003ctd\u003e7110\u003c/td\u003e\n      \u003ctd\u003eI'm Confused\u003c/td\u003e\n      \u003ctd\u003eThe label on the bowl says 35 grams is in the ...\u003c/td\u003e\n      \u003ctd\u003e2.0\u003c/td\u003e\n    \u003c/tr\u003e\n  \u003c/tbody\u003e\n\u003c/table\u003e\n\u003c/div\u003e",
                        "text/plain": "   product_id                            summary  \\\n0        4408          Does increase milk supply   \n1        4209  One bad packet ruins the product!   \n2        8623                CAULIFLOWER PASTA!?   \n3        9439              Tasty and inexpensive   \n4        7110                       I'm Confused   \n\n                                              review  rating  \n0  This really helped to increase my milk supply....     3.0  \n1  I should have stayed with Idahoan brand. Poor ...     1.0  \n2  As the pasta cooked, I read the box to see wha...     4.0  \n3  I really like this cereal. The flavor is sligh...     5.0  \n4  The label on the bowl says 35 grams is in the ...     2.0  "
                    },
                    "execution_count": 131,
                    "metadata": {},
                    "output_type": "execute_result"
                }
            ],
            "source": [
                "### SKIP\n",
                "products = pd.read_csv('food_products.csv')\n",
                "\n",
                "# Set seed for the whole program\n",
                "np.random.seed(416)\n",
                "\n",
                "products.head()"
            ]
        },
        {
            "attachments": {},
            "cell_type": "markdown",
            "metadata": {},
            "source": [
                "Do not modify the below cell. It configures the autograder, which will award 0 points if it doesn't run."
            ]
        },
        {
            "cell_type": "code",
            "execution_count": 132,
            "metadata": {},
            "outputs": [],
            "source": [
                "### edTest(test_load_data) ###"
            ]
        },
        {
            "attachments": {},
            "cell_type": "markdown",
            "metadata": {},
            "source": [
                "## Extract sentiments\n",
                "\n",
                "We will **ignore** all reviews with *rating = 3*, since they tend to have a neutral sentiment. Let's see how many of each rating we have."
            ]
        },
        {
            "cell_type": "code",
            "execution_count": 133,
            "metadata": {},
            "outputs": [
                {
                    "data": {
                        "text/plain": "889"
                    },
                    "execution_count": 133,
                    "metadata": {},
                    "output_type": "execute_result"
                }
            ],
            "source": [
                "products = products[products['rating'] != 3].copy()\n",
                "\n",
                "len(products)"
            ]
        },
        {
            "cell_type": "code",
            "execution_count": 134,
            "metadata": {},
            "outputs": [
                {
                    "data": {
                        "text/plain": "\u003cAxes: title={'center': 'Number of reviews with a given rating'}, xlabel='rating', ylabel='Count'\u003e"
                    },
                    "execution_count": 134,
                    "metadata": {},
                    "output_type": "execute_result"
                },
                {
                    "data": {
                        "image/png": "[encoded data removed]",
                        "text/plain": "\u003cFigure size 640x480 with 1 Axes\u003e"
                    },
                    "metadata": {},
                    "output_type": "display_data"
                }
            ],
            "source": [
                "plt.title('Number of reviews with a given rating')\n",
                "sns.histplot(products['rating'])"
            ]
        },
        {
            "attachments": {},
            "cell_type": "markdown",
            "metadata": {},
            "source": [
                "Now, we will assign reviews with a rating of 4 or higher to be *positive* reviews, while the ones with rating of 2 or lower are *negative*. For the sentiment column, we use +1 for the positive class label and -1 for the negative class label."
            ]
        },
        {
            "cell_type": "code",
            "execution_count": 135,
            "metadata": {},
            "outputs": [
                {
                    "data": {
                        "text/html": "\u003cdiv\u003e\n\u003cstyle scoped\u003e\n    .dataframe tbody tr th:only-of-type {\n        vertical-align: middle;\n    }\n\n    .dataframe tbody tr th {\n        vertical-align: top;\n    }\n\n    .dataframe thead th {\n        text-align: right;\n    }\n\u003c/style\u003e\n\u003ctable border=\"1\" class=\"dataframe\"\u003e\n  \u003cthead\u003e\n    \u003ctr style=\"text-align: right;\"\u003e\n      \u003cth\u003e\u003c/th\u003e\n      \u003cth\u003eproduct_id\u003c/th\u003e\n      \u003cth\u003esummary\u003c/th\u003e\n      \u003cth\u003ereview\u003c/th\u003e\n      \u003cth\u003erating\u003c/th\u003e\n      \u003cth\u003esentiment\u003c/th\u003e\n    \u003c/tr\u003e\n  \u003c/thead\u003e\n  \u003ctbody\u003e\n    \u003ctr\u003e\n      \u003cth\u003e1\u003c/th\u003e\n      \u003ctd\u003e4209\u003c/td\u003e\n      \u003ctd\u003eOne bad packet ruins the product!\u003c/td\u003e\n      \u003ctd\u003eI should have stayed with Idahoan brand. Poor ...\u003c/td\u003e\n      \u003ctd\u003e1.0\u003c/td\u003e\n      \u003ctd\u003e-1\u003c/td\u003e\n    \u003c/tr\u003e\n    \u003ctr\u003e\n      \u003cth\u003e2\u003c/th\u003e\n      \u003ctd\u003e8623\u003c/td\u003e\n      \u003ctd\u003eCAULIFLOWER PASTA!?\u003c/td\u003e\n      \u003ctd\u003eAs the pasta cooked, I read the box to see wha...\u003c/td\u003e\n      \u003ctd\u003e4.0\u003c/td\u003e\n      \u003ctd\u003e1\u003c/td\u003e\n    \u003c/tr\u003e\n    \u003ctr\u003e\n      \u003cth\u003e3\u003c/th\u003e\n      \u003ctd\u003e9439\u003c/td\u003e\n      \u003ctd\u003eTasty and inexpensive\u003c/td\u003e\n      \u003ctd\u003eI really like this cereal. The flavor is sligh...\u003c/td\u003e\n      \u003ctd\u003e5.0\u003c/td\u003e\n      \u003ctd\u003e1\u003c/td\u003e\n    \u003c/tr\u003e\n    \u003ctr\u003e\n      \u003cth\u003e4\u003c/th\u003e\n      \u003ctd\u003e7110\u003c/td\u003e\n      \u003ctd\u003eI'm Confused\u003c/td\u003e\n      \u003ctd\u003eThe label on the bowl says 35 grams is in the ...\u003c/td\u003e\n      \u003ctd\u003e2.0\u003c/td\u003e\n      \u003ctd\u003e-1\u003c/td\u003e\n    \u003c/tr\u003e\n    \u003ctr\u003e\n      \u003cth\u003e5\u003c/th\u003e\n      \u003ctd\u003e1373\u003c/td\u003e\n      \u003ctd\u003eFlat\u003c/td\u003e\n      \u003ctd\u003eDoesn't taste like ginger.  Thought it would s...\u003c/td\u003e\n      \u003ctd\u003e2.0\u003c/td\u003e\n      \u003ctd\u003e-1\u003c/td\u003e\n    \u003c/tr\u003e\n  \u003c/tbody\u003e\n\u003c/table\u003e\n\u003c/div\u003e",
                        "text/plain": "   product_id                            summary  \\\n1        4209  One bad packet ruins the product!   \n2        8623                CAULIFLOWER PASTA!?   \n3        9439              Tasty and inexpensive   \n4        7110                       I'm Confused   \n5        1373                               Flat   \n\n                                              review  rating  sentiment  \n1  I should have stayed with Idahoan brand. Poor ...     1.0         -1  \n2  As the pasta cooked, I read the box to see wha...     4.0          1  \n3  I really like this cereal. The flavor is sligh...     5.0          1  \n4  The label on the bowl says 35 grams is in the ...     2.0         -1  \n5  Doesn't taste like ginger.  Thought it would s...     2.0         -1  "
                    },
                    "execution_count": 135,
                    "metadata": {},
                    "output_type": "execute_result"
                }
            ],
            "source": [
                "products['sentiment'] = products['rating'].apply(lambda rating : +1 if rating \u003e 3 else -1)\n",
                "products.head()"
            ]
        },
        {
            "attachments": {},
            "cell_type": "markdown",
            "metadata": {},
            "source": [
                "Now, we can see that the dataset contains an extra column called **sentiment** which is either positive (+1) or negative (-1)."
            ]
        },
        {
            "attachments": {},
            "cell_type": "markdown",
            "metadata": {},
            "source": [
                "## Build the word count vector for each review"
            ]
        },
        {
            "attachments": {},
            "cell_type": "markdown",
            "metadata": {},
            "source": [
                "Let us explore a specific example of a food product. We have information about the product, the review left, and both the rating that was given and the sentiment label we computed."
            ]
        },
        {
            "cell_type": "code",
            "execution_count": 136,
            "metadata": {},
            "outputs": [
                {
                    "name": "stdout",
                    "output_type": "stream",
                    "text": "Rating : 4.0 (Sentiment=1)\nSummary: It's PRIME-arily Lobster\nReview : if it's primarily made from lobster, what else is in there? I wonder. Primarily...Who uses a word like that on a food label? It's primarily delicious among other things, things we usually have no energy to talk about after eating a fine meal. I'm so full of primarily lobster bisque that I've been making and have come to be addicted to. NO! I will not share the recipe, because I am too full and don't feel like it. Primarily.\n"
                }
            ],
            "source": [
                "example_product = products.iloc[21]\n",
                "print(f\"Rating : {example_product['rating']} (Sentiment={example_product['sentiment']})\")\n",
                "print(\"Summary:\", example_product[\"summary\"])\n",
                "print(\"Review :\", example_product[\"review\"])"
            ]
        },
        {
            "attachments": {},
            "cell_type": "markdown",
            "metadata": {},
            "source": [
                "To work with the text data, we will need to turn it into a vector of word counts. In other words, we will be making a feature for every word that could possibly appear in the data, and the value for that feature for one example would be the number of times that word appears in that example. \n",
                "\n",
                "To accomplish this, we will need to do two data transformation:\n",
                "\n",
                "1. Remove punctuation using [Python's built-in](https://docs.python.org/2/library/string.html) string functionality.\n",
                "2. Transform the reviews into word-counts.\n",
                "\n",
                "\n",
                "\n",
                "\u003e **Aside**. In this assignment, we remove all punctuations for the sake of simplicity. A smarter approach to punctuations would preserve phrases such as \"I'd\", \"would've\", \"hadn't\" and so forth. \n",
                "\u003e \n",
                "\u003e If you are curious in learning how to handle these complexities in practice, you might be interested in  researching more about tokenization and NLP like [this page](https://towardsdatascience.com/tokenization-for-natural-language-processing-a179a891bad4) shows. Note that you do not need to do any of that stuff for this assignment.\n",
                "\n",
                "So first, we remove punctuation with the code in the next cell."
            ]
        },
        {
            "cell_type": "code",
            "execution_count": 137,
            "metadata": {},
            "outputs": [],
            "source": [
                "def remove_punctuation(text):\n",
                "    \"\"\"\n",
                "    Remove any punctuation in text. Python has a default set of \n",
                "    punctuation marks, stored in string.punctuation, that contains\n",
                "    !\"#$%\u0026'()*+, -./:;\u003c=\u003e?@[\\]^_`{|}~\n",
                "    \"\"\"\n",
                "    if type(text) is str:\n",
                "        return text.translate(str.maketrans('', '', string.punctuation))\n",
                "    else:\n",
                "        return ''\n",
                "    \n",
                "products['review_clean'] = products['review'].apply(remove_punctuation)"
            ]
        },
        {
            "attachments": {},
            "cell_type": "markdown",
            "metadata": {},
            "source": [
                "Next, we use scikit-learn's [CountVectorizer](https://scikit-learn.org/stable/modules/generated/sklearn.feature_extraction.text.CountVectorizer.html) to get counts for each word. "
            ]
        },
        {
            "cell_type": "code",
            "execution_count": 138,
            "metadata": {},
            "outputs": [
                {
                    "data": {
                        "text/html": "\u003cdiv\u003e\n\u003cstyle scoped\u003e\n    .dataframe tbody tr th:only-of-type {\n        vertical-align: middle;\n    }\n\n    .dataframe tbody tr th {\n        vertical-align: top;\n    }\n\n    .dataframe thead th {\n        text-align: right;\n    }\n\u003c/style\u003e\n\u003ctable border=\"1\" class=\"dataframe\"\u003e\n  \u003cthead\u003e\n    \u003ctr style=\"text-align: right;\"\u003e\n      \u003cth\u003e\u003c/th\u003e\n      \u003cth\u003e0000\u003c/th\u003e\n      \u003cth\u003e002\u003c/th\u003e\n      \u003cth\u003e004\u003c/th\u003e\n      \u003cth\u003e004oz\u003c/th\u003e\n      \u003cth\u003e012months\u003c/th\u003e\n      \u003cth\u003e032\u003c/th\u003e\n      \u003cth\u003e051\u003c/th\u003e\n      \u003cth\u003e08\u003c/th\u003e\n      \u003cth\u003e0f\u003c/th\u003e\n      \u003cth\u003e10\u003c/th\u003e\n      \u003cth\u003e...\u003c/th\u003e\n      \u003cth\u003ezico1\u003c/th\u003e\n      \u003cth\u003ezico3\u003c/th\u003e\n      \u003cth\u003ezicos\u003c/th\u003e\n      \u003cth\u003ezillion\u003c/th\u003e\n      \u003cth\u003ezinger\u003c/th\u003e\n      \u003cth\u003ezip\u003c/th\u003e\n      \u003cth\u003eziplock\u003c/th\u003e\n      \u003cth\u003esentiment\u003c/th\u003e\n      \u003cth\u003ereview_clean\u003c/th\u003e\n      \u003cth\u003esummary\u003c/th\u003e\n    \u003c/tr\u003e\n  \u003c/thead\u003e\n  \u003ctbody\u003e\n    \u003ctr\u003e\n      \u003cth\u003e1\u003c/th\u003e\n      \u003ctd\u003e0\u003c/td\u003e\n      \u003ctd\u003e0\u003c/td\u003e\n      \u003ctd\u003e0\u003c/td\u003e\n      \u003ctd\u003e0\u003c/td\u003e\n      \u003ctd\u003e0\u003c/td\u003e\n      \u003ctd\u003e0\u003c/td\u003e\n      \u003ctd\u003e0\u003c/td\u003e\n      \u003ctd\u003e0\u003c/td\u003e\n      \u003ctd\u003e0\u003c/td\u003e\n      \u003ctd\u003e0\u003c/td\u003e\n      \u003ctd\u003e...\u003c/td\u003e\n      \u003ctd\u003e0\u003c/td\u003e\n      \u003ctd\u003e0\u003c/td\u003e\n      \u003ctd\u003e0\u003c/td\u003e\n      \u003ctd\u003e0\u003c/td\u003e\n      \u003ctd\u003e0\u003c/td\u003e\n      \u003ctd\u003e0\u003c/td\u003e\n      \u003ctd\u003e0\u003c/td\u003e\n      \u003ctd\u003e-1\u003c/td\u003e\n      \u003ctd\u003eI should have stayed with Idahoan brand Poor B...\u003c/td\u003e\n      \u003ctd\u003eOne bad packet ruins the product!\u003c/td\u003e\n    \u003c/tr\u003e\n    \u003ctr\u003e\n      \u003cth\u003e2\u003c/th\u003e\n      \u003ctd\u003e0\u003c/td\u003e\n      \u003ctd\u003e0\u003c/td\u003e\n      \u003ctd\u003e0\u003c/td\u003e\n      \u003ctd\u003e0\u003c/td\u003e\n      \u003ctd\u003e0\u003c/td\u003e\n      \u003ctd\u003e0\u003c/td\u003e\n      \u003ctd\u003e0\u003c/td\u003e\n      \u003ctd\u003e0\u003c/td\u003e\n      \u003ctd\u003e0\u003c/td\u003e\n      \u003ctd\u003e0\u003c/td\u003e\n      \u003ctd\u003e...\u003c/td\u003e\n      \u003ctd\u003e0\u003c/td\u003e\n      \u003ctd\u003e0\u003c/td\u003e\n      \u003ctd\u003e0\u003c/td\u003e\n      \u003ctd\u003e0\u003c/td\u003e\n      \u003ctd\u003e0\u003c/td\u003e\n      \u003ctd\u003e0\u003c/td\u003e\n      \u003ctd\u003e0\u003c/td\u003e\n      \u003ctd\u003e1\u003c/td\u003e\n      \u003ctd\u003eAs the pasta cooked I read the box to see what...\u003c/td\u003e\n      \u003ctd\u003eCAULIFLOWER PASTA!?\u003c/td\u003e\n    \u003c/tr\u003e\n    \u003ctr\u003e\n      \u003cth\u003e3\u003c/th\u003e\n      \u003ctd\u003e0\u003c/td\u003e\n      \u003ctd\u003e0\u003c/td\u003e\n      \u003ctd\u003e0\u003c/td\u003e\n      \u003ctd\u003e0\u003c/td\u003e\n      \u003ctd\u003e0\u003c/td\u003e\n      \u003ctd\u003e0\u003c/td\u003e\n      \u003ctd\u003e0\u003c/td\u003e\n      \u003ctd\u003e0\u003c/td\u003e\n      \u003ctd\u003e0\u003c/td\u003e\n      \u003ctd\u003e0\u003c/td\u003e\n      \u003ctd\u003e...\u003c/td\u003e\n      \u003ctd\u003e0\u003c/td\u003e\n      \u003ctd\u003e0\u003c/td\u003e\n      \u003ctd\u003e0\u003c/td\u003e\n      \u003ctd\u003e0\u003c/td\u003e\n      \u003ctd\u003e0\u003c/td\u003e\n      \u003ctd\u003e0\u003c/td\u003e\n      \u003ctd\u003e0\u003c/td\u003e\n      \u003ctd\u003e1\u003c/td\u003e\n      \u003ctd\u003eI really like this cereal The flavor is slight...\u003c/td\u003e\n      \u003ctd\u003eTasty and inexpensive\u003c/td\u003e\n    \u003c/tr\u003e\n    \u003ctr\u003e\n      \u003cth\u003e4\u003c/th\u003e\n      \u003ctd\u003e0\u003c/td\u003e\n      \u003ctd\u003e0\u003c/td\u003e\n      \u003ctd\u003e0\u003c/td\u003e\n      \u003ctd\u003e0\u003c/td\u003e\n      \u003ctd\u003e0\u003c/td\u003e\n      \u003ctd\u003e0\u003c/td\u003e\n      \u003ctd\u003e0\u003c/td\u003e\n      \u003ctd\u003e0\u003c/td\u003e\n      \u003ctd\u003e0\u003c/td\u003e\n      \u003ctd\u003e0\u003c/td\u003e\n      \u003ctd\u003e...\u003c/td\u003e\n      \u003ctd\u003e0\u003c/td\u003e\n      \u003ctd\u003e0\u003c/td\u003e\n      \u003ctd\u003e0\u003c/td\u003e\n      \u003ctd\u003e0\u003c/td\u003e\n      \u003ctd\u003e0\u003c/td\u003e\n      \u003ctd\u003e0\u003c/td\u003e\n      \u003ctd\u003e0\u003c/td\u003e\n      \u003ctd\u003e-1\u003c/td\u003e\n      \u003ctd\u003eThe label on the bowl says 35 grams is in the ...\u003c/td\u003e\n      \u003ctd\u003eI'm Confused\u003c/td\u003e\n    \u003c/tr\u003e\n    \u003ctr\u003e\n      \u003cth\u003e5\u003c/th\u003e\n      \u003ctd\u003e0\u003c/td\u003e\n      \u003ctd\u003e0\u003c/td\u003e\n      \u003ctd\u003e0\u003c/td\u003e\n      \u003ctd\u003e0\u003c/td\u003e\n      \u003ctd\u003e0\u003c/td\u003e\n      \u003ctd\u003e0\u003c/td\u003e\n      \u003ctd\u003e0\u003c/td\u003e\n      \u003ctd\u003e0\u003c/td\u003e\n      \u003ctd\u003e0\u003c/td\u003e\n      \u003ctd\u003e0\u003c/td\u003e\n      \u003ctd\u003e...\u003c/td\u003e\n      \u003ctd\u003e0\u003c/td\u003e\n      \u003ctd\u003e0\u003c/td\u003e\n      \u003ctd\u003e0\u003c/td\u003e\n      \u003ctd\u003e0\u003c/td\u003e\n      \u003ctd\u003e0\u003c/td\u003e\n      \u003ctd\u003e0\u003c/td\u003e\n      \u003ctd\u003e0\u003c/td\u003e\n      \u003ctd\u003e-1\u003c/td\u003e\n      \u003ctd\u003eDoesnt taste like ginger  Thought it would sav...\u003c/td\u003e\n      \u003ctd\u003eFlat\u003c/td\u003e\n    \u003c/tr\u003e\n  \u003c/tbody\u003e\n\u003c/table\u003e\n\u003cp\u003e5 rows × 7628 columns\u003c/p\u003e\n\u003c/div\u003e",
                        "text/plain": "   0000  002  004  004oz  012months  032  051  08  0f  10  ...  zico1  zico3  \\\n1     0    0    0      0          0    0    0   0   0   0  ...      0      0   \n2     0    0    0      0          0    0    0   0   0   0  ...      0      0   \n3     0    0    0      0          0    0    0   0   0   0  ...      0      0   \n4     0    0    0      0          0    0    0   0   0   0  ...      0      0   \n5     0    0    0      0          0    0    0   0   0   0  ...      0      0   \n\n   zicos  zillion  zinger  zip  ziplock  sentiment  \\\n1      0        0       0    0        0         -1   \n2      0        0       0    0        0          1   \n3      0        0       0    0        0          1   \n4      0        0       0    0        0         -1   \n5      0        0       0    0        0         -1   \n\n                                        review_clean  \\\n1  I should have stayed with Idahoan brand Poor B...   \n2  As the pasta cooked I read the box to see what...   \n3  I really like this cereal The flavor is slight...   \n4  The label on the bowl says 35 grams is in the ...   \n5  Doesnt taste like ginger  Thought it would sav...   \n\n                             summary  \n1  One bad packet ruins the product!  \n2                CAULIFLOWER PASTA!?  \n3              Tasty and inexpensive  \n4                       I'm Confused  \n5                               Flat  \n\n[5 rows x 7628 columns]"
                    },
                    "execution_count": 138,
                    "metadata": {},
                    "output_type": "execute_result"
                }
            ],
            "source": [
                "# Make counts\n",
                "vectorizer = CountVectorizer()\n",
                "count_matrix = vectorizer.fit_transform(products['review_clean'])\n",
                "\n",
                "# Get the feature names (e.g., one per word)\n",
                "features = vectorizer.get_feature_names_out()\n",
                "\n",
                "# Make a new DataFrame with the counts information\n",
                "product_data = pd.DataFrame(count_matrix.toarray(),\n",
                "        index=products.index,\n",
                "        columns=features)\n",
                "\n",
                "# Add the old columns to our new DataFrame. \n",
                "# We won't use review_clean and the summary in our model, but we will keep\n",
                "# them to look at later.\n",
                "product_data['sentiment'] = products['sentiment']\n",
                "product_data['review_clean'] = products['review_clean']  \n",
                "product_data['summary'] = products['summary']\n",
                "\n",
                "product_data.head()"
            ]
        },
        {
            "attachments": {},
            "cell_type": "markdown",
            "metadata": {},
            "source": [
                "We have now created a lot of features to work with! Note that in the table above, we will have one feature for each word that appeared in the data and the value for that feature is the count of that word in that review. So for example, if review 5 had the word \"dog\" in it 3 times, the value in row 5 and column \"dog\" would be 3.\n",
                "\n",
                "---\n",
                "\n",
                "\n",
                "\n",
                "## Split data into training, validation and test sets."
            ]
        },
        {
            "attachments": {},
            "cell_type": "markdown",
            "metadata": {},
            "source": [
                "Let's perform a train/validation/test split with 80% of the data in the training set, 10% of the data in the validation set, 10% test. Note that we use `random_state=3` so that everyone gets the same result."
            ]
        },
        {
            "cell_type": "code",
            "execution_count": 139,
            "metadata": {},
            "outputs": [],
            "source": [
                "train_data, test_and_validation_data = train_test_split(product_data, test_size=0.2, random_state=3)\n",
                "validation_data, test_data = train_test_split(test_and_validation_data, test_size=0.5, random_state=3)"
            ]
        },
        {
            "attachments": {},
            "cell_type": "markdown",
            "metadata": {},
            "source": [
                "# Baseline: Majority class prediction\n",
                "\n",
                "It is quite common to use the **majority class classifier** as the a baseline (or reference) model for comparison with your classifier model. The majority classifier model predicts the majority class for all data points.\n",
                "\n",
                "To \"train\" the majority class classifier, you should simply find the most frequent target in the training data.\n",
                "\n",
                "### **Question 1:** Majority class classifier\n",
                "* Compute the most frequent label and store it in a variable called `majority_label`.\n",
                "* What is the validation accuracy of the majority class classifer. Store your result as a number between 0 and 1 in a variable called `majority_classifier_validation_accuracy`.\n",
                "  \n",
                "  *Hint:* pandas allows you to take the sum of a boolean series - true values are equal to 1, false values are equal 0."
            ]
        },
        {
            "cell_type": "code",
            "execution_count": 140,
            "metadata": {},
            "outputs": [],
            "source": [
                "### edTest(test_q1_majority_classifier) ###\n",
                "\n",
                "# TODO \"Train\" a majority class classifier and calculate its validation accuracy\n",
                "\n",
                "majority_label = train_data['sentiment'].mode()[0]\n",
                "predict_correct = (pd.Series([majority_label] * len(validation_data), index=validation_data.index) == validation_data['sentiment']).sum()\n",
                "majority_classifier_validation_accuracy = predict_correct / len(validation_data)"
            ]
        },
        {
            "attachments": {},
            "cell_type": "markdown",
            "metadata": {},
            "source": [
                "# Train a sentiment classifier with logistic regression\n",
                "\n",
                "We will now use logistic regression to create a sentiment classifier on the training data. This model will use the columns representing word counts as features and the column **sentiment** as the target. We will set **no regularization penalty**, and set `random_state=1` to get the same answer as everyone else.\n",
                "\n",
                "You can see scikit-learn's documentation for LogisticRegression [here](https://scikit-learn.org/stable/modules/generated/sklearn.linear_model.LogisticRegression.html). Note that the parameter for this class to control regularization is named `C` and it represents the inverse of the penalty strength. In other words $C = \\frac{1}{\\lambda}$. By default, $C=1.0$, which means if you don't specify `C` the model will have regularization. To have very little regularization, you have to specify `C` to be a very large number (corresponding to a very small $\\lambda$). (Note that technically, the better way to do this would be to pass in the parameter `penalty='none'` into the Logistic Regression model. However, in this assignment, for consistency across sub-parts, we use an L2 penalty with a large C value here.)"
            ]
        },
        {
            "cell_type": "code",
            "execution_count": 141,
            "metadata": {},
            "outputs": [
                {
                    "data": {
                        "text/html": "\u003cstyle\u003e#sk-container-id-4 {\n  /* Definition of color scheme common for light and dark mode */\n  --sklearn-color-text: black;\n  --sklearn-color-line: gray;\n  /* Definition of color scheme for unfitted estimators */\n  --sklearn-color-unfitted-level-0: #fff5e6;\n  --sklearn-color-unfitted-level-1: #f6e4d2;\n  --sklearn-color-unfitted-level-2: #ffe0b3;\n  --sklearn-color-unfitted-level-3: chocolate;\n  /* Definition of color scheme for fitted estimators */\n  --sklearn-color-fitted-level-0: #f0f8ff;\n  --sklearn-color-fitted-level-1: #d4ebff;\n  --sklearn-color-fitted-level-2: #b3dbfd;\n  --sklearn-color-fitted-level-3: cornflowerblue;\n\n  /* Specific color for light theme */\n  --sklearn-color-text-on-default-background: var(--sg-text-color, var(--theme-code-foreground, var(--jp-content-font-color1, black)));\n  --sklearn-color-background: var(--sg-background-color, var(--theme-background, var(--jp-layout-color0, white)));\n  --sklearn-color-border-box: var(--sg-text-color, var(--theme-code-foreground, var(--jp-content-font-color1, black)));\n  --sklearn-color-icon: #696969;\n\n  @media (prefers-color-scheme: dark) {\n    /* Redefinition of color scheme for dark theme */\n    --sklearn-color-text-on-default-background: var(--sg-text-color, var(--theme-code-foreground, var(--jp-content-font-color1, white)));\n    --sklearn-color-background: var(--sg-background-color, var(--theme-background, var(--jp-layout-color0, #111)));\n    --sklearn-color-border-box: var(--sg-text-color, var(--theme-code-foreground, var(--jp-content-font-color1, white)));\n    --sklearn-color-icon: #878787;\n  }\n}\n\n#sk-container-id-4 {\n  color: var(--sklearn-color-text);\n}\n\n#sk-container-id-4 pre {\n  padding: 0;\n}\n\n#sk-container-id-4 input.sk-hidden--visually {\n  border: 0;\n  clip: rect(1px 1px 1px 1px);\n  clip: rect(1px, 1px, 1px, 1px);\n  height: 1px;\n  margin: -1px;\n  overflow: hidden;\n  padding: 0;\n  position: absolute;\n  width: 1px;\n}\n\n#sk-container-id-4 div.sk-dashed-wrapped {\n  border: 1px dashed var(--sklearn-color-line);\n  margin: 0 0.4em 0.5em 0.4em;\n  box-sizing: border-box;\n  padding-bottom: 0.4em;\n  background-color: var(--sklearn-color-background);\n}\n\n#sk-container-id-4 div.sk-container {\n  /* jupyter's `normalize.less` sets `[hidden] { display: none; }`\n     but bootstrap.min.css set `[hidden] { display: none !important; }`\n     so we also need the `!important` here to be able to override the\n     default hidden behavior on the sphinx rendered scikit-learn.org.\n     See: https://github.com/scikit-learn/scikit-learn/issues/21755 */\n  display: inline-block !important;\n  position: relative;\n}\n\n#sk-container-id-4 div.sk-text-repr-fallback {\n  display: none;\n}\n\ndiv.sk-parallel-item,\ndiv.sk-serial,\ndiv.sk-item {\n  /* draw centered vertical line to link estimators */\n  background-image: linear-gradient(var(--sklearn-color-text-on-default-background), var(--sklearn-color-text-on-default-background));\n  background-size: 2px 100%;\n  background-repeat: no-repeat;\n  background-position: center center;\n}\n\n/* Parallel-specific style estimator block */\n\n#sk-container-id-4 div.sk-parallel-item::after {\n  content: \"\";\n  width: 100%;\n  border-bottom: 2px solid var(--sklearn-color-text-on-default-background);\n  flex-grow: 1;\n}\n\n#sk-container-id-4 div.sk-parallel {\n  display: flex;\n  align-items: stretch;\n  justify-content: center;\n  background-color: var(--sklearn-color-background);\n  position: relative;\n}\n\n#sk-container-id-4 div.sk-parallel-item {\n  display: flex;\n  flex-direction: column;\n}\n\n#sk-container-id-4 div.sk-parallel-item:first-child::after {\n  align-self: flex-end;\n  width: 50%;\n}\n\n#sk-container-id-4 div.sk-parallel-item:last-child::after {\n  align-self: flex-start;\n  width: 50%;\n}\n\n#sk-container-id-4 div.sk-parallel-item:only-child::after {\n  width: 0;\n}\n\n/* Serial-specific style estimator block */\n\n#sk-container-id-4 div.sk-serial {\n  display: flex;\n  flex-direction: column;\n  align-items: center;\n  background-color: var(--sklearn-color-background);\n  padding-right: 1em;\n  padding-left: 1em;\n}\n\n\n/* Toggleable style: style used for estimator/Pipeline/ColumnTransformer box that is\nclickable and can be expanded/collapsed.\n- Pipeline and ColumnTransformer use this feature and define the default style\n- Estimators will overwrite some part of the style using the `sk-estimator` class\n*/\n\n/* Pipeline and ColumnTransformer style (default) */\n\n#sk-container-id-4 div.sk-toggleable {\n  /* Default theme specific background. It is overwritten whether we have a\n  specific estimator or a Pipeline/ColumnTransformer */\n  background-color: var(--sklearn-color-background);\n}\n\n/* Toggleable label */\n#sk-container-id-4 label.sk-toggleable__label {\n  cursor: pointer;\n  display: block;\n  width: 100%;\n  margin-bottom: 0;\n  padding: 0.5em;\n  box-sizing: border-box;\n  text-align: center;\n}\n\n#sk-container-id-4 label.sk-toggleable__label-arrow:before {\n  /* Arrow on the left of the label */\n  content: \"▸\";\n  float: left;\n  margin-right: 0.25em;\n  color: var(--sklearn-color-icon);\n}\n\n#sk-container-id-4 label.sk-toggleable__label-arrow:hover:before {\n  color: var(--sklearn-color-text);\n}\n\n/* Toggleable content - dropdown */\n\n#sk-container-id-4 div.sk-toggleable__content {\n  max-height: 0;\n  max-width: 0;\n  overflow: hidden;\n  text-align: left;\n  /* unfitted */\n  background-color: var(--sklearn-color-unfitted-level-0);\n}\n\n#sk-container-id-4 div.sk-toggleable__content.fitted {\n  /* fitted */\n  background-color: var(--sklearn-color-fitted-level-0);\n}\n\n#sk-container-id-4 div.sk-toggleable__content pre {\n  margin: 0.2em;\n  border-radius: 0.25em;\n  color: var(--sklearn-color-text);\n  /* unfitted */\n  background-color: var(--sklearn-color-unfitted-level-0);\n}\n\n#sk-container-id-4 div.sk-toggleable__content.fitted pre {\n  /* unfitted */\n  background-color: var(--sklearn-color-fitted-level-0);\n}\n\n#sk-container-id-4 input.sk-toggleable__control:checked~div.sk-toggleable__content {\n  /* Expand drop-down */\n  max-height: 200px;\n  max-width: 100%;\n  overflow: auto;\n}\n\n#sk-container-id-4 input.sk-toggleable__control:checked~label.sk-toggleable__label-arrow:before {\n  content: \"▾\";\n}\n\n/* Pipeline/ColumnTransformer-specific style */\n\n#sk-container-id-4 div.sk-label input.sk-toggleable__control:checked~label.sk-toggleable__label {\n  color: var(--sklearn-color-text);\n  background-color: var(--sklearn-color-unfitted-level-2);\n}\n\n#sk-container-id-4 div.sk-label.fitted input.sk-toggleable__control:checked~label.sk-toggleable__label {\n  background-color: var(--sklearn-color-fitted-level-2);\n}\n\n/* Estimator-specific style */\n\n/* Colorize estimator box */\n#sk-container-id-4 div.sk-estimator input.sk-toggleable__control:checked~label.sk-toggleable__label {\n  /* unfitted */\n  background-color: var(--sklearn-color-unfitted-level-2);\n}\n\n#sk-container-id-4 div.sk-estimator.fitted input.sk-toggleable__control:checked~label.sk-toggleable__label {\n  /* fitted */\n  background-color: var(--sklearn-color-fitted-level-2);\n}\n\n#sk-container-id-4 div.sk-label label.sk-toggleable__label,\n#sk-container-id-4 div.sk-label label {\n  /* The background is the default theme color */\n  color: var(--sklearn-color-text-on-default-background);\n}\n\n/* On hover, darken the color of the background */\n#sk-container-id-4 div.sk-label:hover label.sk-toggleable__label {\n  color: var(--sklearn-color-text);\n  background-color: var(--sklearn-color-unfitted-level-2);\n}\n\n/* Label box, darken color on hover, fitted */\n#sk-container-id-4 div.sk-label.fitted:hover label.sk-toggleable__label.fitted {\n  color: var(--sklearn-color-text);\n  background-color: var(--sklearn-color-fitted-level-2);\n}\n\n/* Estimator label */\n\n#sk-container-id-4 div.sk-label label {\n  font-family: monospace;\n  font-weight: bold;\n  display: inline-block;\n  line-height: 1.2em;\n}\n\n#sk-container-id-4 div.sk-label-container {\n  text-align: center;\n}\n\n/* Estimator-specific */\n#sk-container-id-4 div.sk-estimator {\n  font-family: monospace;\n  border: 1px dotted var(--sklearn-color-border-box);\n  border-radius: 0.25em;\n  box-sizing: border-box;\n  margin-bottom: 0.5em;\n  /* unfitted */\n  background-color: var(--sklearn-color-unfitted-level-0);\n}\n\n#sk-container-id-4 div.sk-estimator.fitted {\n  /* fitted */\n  background-color: var(--sklearn-color-fitted-level-0);\n}\n\n/* on hover */\n#sk-container-id-4 div.sk-estimator:hover {\n  /* unfitted */\n  background-color: var(--sklearn-color-unfitted-level-2);\n}\n\n#sk-container-id-4 div.sk-estimator.fitted:hover {\n  /* fitted */\n  background-color: var(--sklearn-color-fitted-level-2);\n}\n\n/* Specification for estimator info (e.g. \"i\" and \"?\") */\n\n/* Common style for \"i\" and \"?\" */\n\n.sk-estimator-doc-link,\na:link.sk-estimator-doc-link,\na:visited.sk-estimator-doc-link {\n  float: right;\n  font-size: smaller;\n  line-height: 1em;\n  font-family: monospace;\n  background-color: var(--sklearn-color-background);\n  border-radius: 1em;\n  height: 1em;\n  width: 1em;\n  text-decoration: none !important;\n  margin-left: 1ex;\n  /* unfitted */\n  border: var(--sklearn-color-unfitted-level-1) 1pt solid;\n  color: var(--sklearn-color-unfitted-level-1);\n}\n\n.sk-estimator-doc-link.fitted,\na:link.sk-estimator-doc-link.fitted,\na:visited.sk-estimator-doc-link.fitted {\n  /* fitted */\n  border: var(--sklearn-color-fitted-level-1) 1pt solid;\n  color: var(--sklearn-color-fitted-level-1);\n}\n\n/* On hover */\ndiv.sk-estimator:hover .sk-estimator-doc-link:hover,\n.sk-estimator-doc-link:hover,\ndiv.sk-label-container:hover .sk-estimator-doc-link:hover,\n.sk-estimator-doc-link:hover {\n  /* unfitted */\n  background-color: var(--sklearn-color-unfitted-level-3);\n  color: var(--sklearn-color-background);\n  text-decoration: none;\n}\n\ndiv.sk-estimator.fitted:hover .sk-estimator-doc-link.fitted:hover,\n.sk-estimator-doc-link.fitted:hover,\ndiv.sk-label-container:hover .sk-estimator-doc-link.fitted:hover,\n.sk-estimator-doc-link.fitted:hover {\n  /* fitted */\n  background-color: var(--sklearn-color-fitted-level-3);\n  color: var(--sklearn-color-background);\n  text-decoration: none;\n}\n\n/* Span, style for the box shown on hovering the info icon */\n.sk-estimator-doc-link span {\n  display: none;\n  z-index: 9999;\n  position: relative;\n  font-weight: normal;\n  right: .2ex;\n  padding: .5ex;\n  margin: .5ex;\n  width: min-content;\n  min-width: 20ex;\n  max-width: 50ex;\n  color: var(--sklearn-color-text);\n  box-shadow: 2pt 2pt 4pt #999;\n  /* unfitted */\n  background: var(--sklearn-color-unfitted-level-0);\n  border: .5pt solid var(--sklearn-color-unfitted-level-3);\n}\n\n.sk-estimator-doc-link.fitted span {\n  /* fitted */\n  background: var(--sklearn-color-fitted-level-0);\n  border: var(--sklearn-color-fitted-level-3);\n}\n\n.sk-estimator-doc-link:hover span {\n  display: block;\n}\n\n/* \"?\"-specific style due to the `\u003ca\u003e` HTML tag */\n\n#sk-container-id-4 a.estimator_doc_link {\n  float: right;\n  font-size: 1rem;\n  line-height: 1em;\n  font-family: monospace;\n  background-color: var(--sklearn-color-background);\n  border-radius: 1rem;\n  height: 1rem;\n  width: 1rem;\n  text-decoration: none;\n  /* unfitted */\n  color: var(--sklearn-color-unfitted-level-1);\n  border: var(--sklearn-color-unfitted-level-1) 1pt solid;\n}\n\n#sk-container-id-4 a.estimator_doc_link.fitted {\n  /* fitted */\n  border: var(--sklearn-color-fitted-level-1) 1pt solid;\n  color: var(--sklearn-color-fitted-level-1);\n}\n\n/* On hover */\n#sk-container-id-4 a.estimator_doc_link:hover {\n  /* unfitted */\n  background-color: var(--sklearn-color-unfitted-level-3);\n  color: var(--sklearn-color-background);\n  text-decoration: none;\n}\n\n#sk-container-id-4 a.estimator_doc_link.fitted:hover {\n  /* fitted */\n  background-color: var(--sklearn-color-fitted-level-3);\n}\n\u003c/style\u003e\u003cdiv id=\"sk-container-id-4\" class=\"sk-top-container\"\u003e\u003cdiv class=\"sk-text-repr-fallback\"\u003e\u003cpre\u003eLogisticRegression(C=1e+23, random_state=1)\u003c/pre\u003e\u003cb\u003eIn a Jupyter environment, please rerun this cell to show the HTML representation or trust the notebook. \u003cbr /\u003eOn GitHub, the HTML representation is unable to render, please try loading this page with nbviewer.org.\u003c/b\u003e\u003c/div\u003e\u003cdiv class=\"sk-container\" hidden\u003e\u003cdiv class=\"sk-item\"\u003e\u003cdiv class=\"sk-estimator fitted sk-toggleable\"\u003e\u003cinput class=\"sk-toggleable__control sk-hidden--visually\" id=\"sk-estimator-id-4\" type=\"checkbox\" checked\u003e\u003clabel for=\"sk-estimator-id-4\" class=\"sk-toggleable__label fitted sk-toggleable__label-arrow fitted\"\u003e\u0026nbsp;\u0026nbsp;LogisticRegression\u003ca class=\"sk-estimator-doc-link fitted\" rel=\"noreferrer\" target=\"_blank\" href=\"https://scikit-learn.org/1.4/modules/generated/sklearn.linear_model.LogisticRegression.html\"\u003e?\u003cspan\u003eDocumentation for LogisticRegression\u003c/span\u003e\u003c/a\u003e\u003cspan class=\"sk-estimator-doc-link fitted\"\u003ei\u003cspan\u003eFitted\u003c/span\u003e\u003c/span\u003e\u003c/label\u003e\u003cdiv class=\"sk-toggleable__content fitted\"\u003e\u003cpre\u003eLogisticRegression(C=1e+23, random_state=1)\u003c/pre\u003e\u003c/div\u003e \u003c/div\u003e\u003c/div\u003e\u003c/div\u003e\u003c/div\u003e",
                        "text/plain": "LogisticRegression(C=1e+23, random_state=1)"
                    },
                    "execution_count": 141,
                    "metadata": {},
                    "output_type": "execute_result"
                }
            ],
            "source": [
                "# Note: C = 1/Lambda. Setting C to a really high value is the same as setting lambda = 0\n",
                "sentiment_model = LogisticRegression(penalty='l2', C=1e23, random_state=1)\n",
                "sentiment_model.fit(train_data[features], train_data['sentiment'])"
            ]
        },
        {
            "attachments": {},
            "cell_type": "markdown",
            "metadata": {},
            "source": [
                "Let's look at some of the coefficients and the corresponding words. The weights are stored in a `coef_` property: "
            ]
        },
        {
            "cell_type": "code",
            "execution_count": 142,
            "metadata": {},
            "outputs": [
                {
                    "name": "stdout",
                    "output_type": "stream",
                    "text": "Smallest coefficient -5.987646623437152\nLargest coefficient: 11.015982338857766\n"
                }
            ],
            "source": [
                "coefficients = sentiment_model.coef_\n",
                "\n",
                "print('Smallest coefficient', coefficients.min())\n",
                "print('Largest coefficient:', coefficients.max())"
            ]
        },
        {
            "attachments": {},
            "cell_type": "markdown",
            "metadata": {},
            "source": [
                "### **Question 2:** Most Positive/Negative Word\n",
                "For the sentiment model we trained above, compute the word with the most negative weight and the word with the most positive weight.\n",
                "\n",
                "Store your results in the variables `most_negative_word` and `most_positive_word`.\n",
                "\n",
                "While you only need to write code to compute the most negative and most positive, we also recommend printing out the words with the highest magnitude coefficients to make sure they make sense.\n",
                ""
            ]
        },
        {
            "cell_type": "code",
            "execution_count": 143,
            "metadata": {},
            "outputs": [],
            "source": [
                "### edTest(test_q2_most_pos_neg_words) ###\n",
                "\n",
                "# TODO Find the most positive word and most negative word in the sentiment_model\n",
                "\n",
                "most_negative_word = features[coefficients.argmin()]\n",
                "most_positive_word = features[coefficients.argmax()]"
            ]
        },
        {
            "cell_type": "code",
            "execution_count": 144,
            "metadata": {},
            "outputs": [
                {
                    "name": "stdout",
                    "output_type": "stream",
                    "text": "Most negative word: not\nMost positive word: great\n"
                }
            ],
            "source": [
                "print('Most negative word:', most_negative_word)\n",
                "print('Most positive word:', most_positive_word)"
            ]
        },
        {
            "attachments": {},
            "cell_type": "markdown",
            "metadata": {},
            "source": [
                "## Making predictions with logistic regression\n",
                "\n",
                "Now that a model is trained, we can make predictions on the **validation data**. In this first section, we will restrict the examples we are looking at to 3 examples in the validation dataset. We refer to this set of 3 examples as the **sample_data**."
            ]
        },
        {
            "cell_type": "code",
            "execution_count": 145,
            "metadata": {},
            "outputs": [
                {
                    "data": {
                        "text/html": "\u003cdiv\u003e\n\u003cstyle scoped\u003e\n    .dataframe tbody tr th:only-of-type {\n        vertical-align: middle;\n    }\n\n    .dataframe tbody tr th {\n        vertical-align: top;\n    }\n\n    .dataframe thead th {\n        text-align: right;\n    }\n\u003c/style\u003e\n\u003ctable border=\"1\" class=\"dataframe\"\u003e\n  \u003cthead\u003e\n    \u003ctr style=\"text-align: right;\"\u003e\n      \u003cth\u003e\u003c/th\u003e\n      \u003cth\u003esentiment\u003c/th\u003e\n      \u003cth\u003ereview_clean\u003c/th\u003e\n      \u003cth\u003esummary\u003c/th\u003e\n    \u003c/tr\u003e\n  \u003c/thead\u003e\n  \u003ctbody\u003e\n    \u003ctr\u003e\n      \u003cth\u003e493\u003c/th\u003e\n      \u003ctd\u003e-1\u003c/td\u003e\n      \u003ctd\u003eThe Chocolate Espresso flavor of the thinkThin...\u003c/td\u003e\n      \u003ctd\u003eNot a good taste\u003c/td\u003e\n    \u003c/tr\u003e\n    \u003ctr\u003e\n      \u003cth\u003e311\u003c/th\u003e\n      \u003ctd\u003e1\u003c/td\u003e\n      \u003ctd\u003ehard candy with a smooth creamy milk taste i l...\u003c/td\u003e\n      \u003ctd\u003egreat taste\u003c/td\u003e\n    \u003c/tr\u003e\n    \u003ctr\u003e\n      \u003cth\u003e570\u003c/th\u003e\n      \u003ctd\u003e1\u003c/td\u003e\n      \u003ctd\u003eWhen I was growing up split pea soup was a uni...\u003c/td\u003e\n      \u003ctd\u003eMore like split pea stew\u003c/td\u003e\n    \u003c/tr\u003e\n  \u003c/tbody\u003e\n\u003c/table\u003e\n\u003c/div\u003e",
                        "text/plain": "     sentiment                                       review_clean  \\\n493         -1  The Chocolate Espresso flavor of the thinkThin...   \n311          1  hard candy with a smooth creamy milk taste i l...   \n570          1  When I was growing up split pea soup was a uni...   \n\n                      summary  \n493          Not a good taste  \n311               great taste  \n570  More like split pea stew  "
                    },
                    "execution_count": 145,
                    "metadata": {},
                    "output_type": "execute_result"
                }
            ],
            "source": [
                "sample_data = validation_data[8:11]\n",
                "sample_data[['sentiment', 'review_clean', 'summary']]"
            ]
        },
        {
            "attachments": {},
            "cell_type": "markdown",
            "metadata": {},
            "source": [
                "### Predicting sentiment\n",
                "Let's start by predicting the probability of positive/negative sentiment of the 3 examples in the `sample_data`. The `predict_proba` method on the `LogisticRegression` class outputs a probability for each class possible.\n",
                "\n",
                "The output has one row for each example. Each row is an array of 2 numbers, the first is the predictor's prediction for the probability it is a negative sentiment example, and the second is the probability of it being a positive sentiment example."
            ]
        },
        {
            "cell_type": "code",
            "execution_count": 146,
            "metadata": {},
            "outputs": [
                {
                    "name": "stdout",
                    "output_type": "stream",
                    "text": "  Prob Negative, Prob Positive\n[[1.00000000e+00 4.94811120e-17]\n [1.81738360e-07 9.99999818e-01]\n [1.00000000e+00 1.07223685e-11]]\n"
                }
            ],
            "source": [
                "print('  Prob Negative, Prob Positive')\n",
                "print(sentiment_model.predict_proba(sample_data[features]))"
            ]
        },
        {
            "attachments": {},
            "cell_type": "markdown",
            "metadata": {},
            "source": [
                "We are also able to predictions labels (i.e., $\\pm1$, not just probabilities) using the `predict` function."
            ]
        },
        {
            "cell_type": "code",
            "execution_count": 147,
            "metadata": {},
            "outputs": [
                {
                    "name": "stdout",
                    "output_type": "stream",
                    "text": "Predicted labels\n[-1  1 -1]\n"
                }
            ],
            "source": [
                "print('Predicted labels')\n",
                "print(sentiment_model.predict(sample_data[features]))"
            ]
        },
        {
            "attachments": {},
            "cell_type": "markdown",
            "metadata": {},
            "source": [
                "### **Question 3:** Find the review predicted to be most positive (and negative)"
            ]
        },
        {
            "attachments": {},
            "cell_type": "markdown",
            "metadata": {},
            "source": [
                "We now turn to examining the full **validation_data** dataset \u003cspan style=\"color:red\"\u003e(not sample_data)\u003c/span\u003e, , and use `sklearn` to form predictions on all of the data points for faster performance.\n",
                "\n",
                "Using the `sentiment_model`, find the review in the **validation_data** with the **highest probability** of being classified as a **positive review**. Also, find the review with the **highest probability** of being classified as a **negative review**. We refer to these as the \"most positive review\" and \"most negative review\" respectively. Store the `review_clean` column value for each of these rows in `most_positive_review` and `most_negative_review` variables respectively.\n",
                "\n",
                "If there is a tie for the most positive/negative reivew, you should always grab the one that appears *first* in the validation data.\n",
                "\n",
                "*Hint*: Once you know the index of the most positive/negative reviews, use the `.iloc[]` accessor on the DataFrame to get that row and find its `review_clean` value."
            ]
        },
        {
            "cell_type": "code",
            "execution_count": 148,
            "metadata": {},
            "outputs": [],
            "source": [
                "### edTest(test_q3_most_positive_negative_review) ###\n",
                "\n",
                "# TODO Find the review_clean values for the most positive and most negative review\n",
                "probabilities = sentiment_model.predict_proba(validation_data[features])\n",
                "positive_index = probabilities[:, 1].argmax()\n",
                "negative_index = probabilities[:, 0].argmax()\n",
                "\n",
                "most_positive_review = validation_data.iloc[positive_index]['review_clean']\n",
                "most_negative_review = validation_data.iloc[negative_index]['review_clean']"
            ]
        },
        {
            "cell_type": "code",
            "execution_count": 149,
            "metadata": {},
            "outputs": [
                {
                    "name": "stdout",
                    "output_type": "stream",
                    "text": "Most Positive Review:\nI have been on an organic foods diet for almost a year now and I have become much more sensitive to what I eat and drink Out are the energy drinks loaded with sugars caffeine and artificial ingredients In are the more gentler and natural energy boosters This was  a surprise for me I really liked it and it did give an energy boost without any late energy crashesThe flavor is nice A good palatable taste and feel in the mouth No bad after taste It sits well on the stomach even an empty one It provides and fairly quick ramp up in energy and alertness and lasts for several hours to all day The ramp down in gently and hardly noticeable I like the ingredients and the overall effectI am finding that I need less energy boosting as my diet is becoming cleaner and healthier However I am going to rely on these until the day when I can maintain great energy levels without supports Or at least keeps a few in the fridge for special occasions 5 Stars easy Hope you get as much out of it as I have\n\nMost Negative Review:\nThe Chocolate Espresso flavor of the thinkThin bars is the only one I have tasted and I found it disappointing  There was no coffee flavor to the bar other than bitterness  Is that supposed to be the espresso flavor  I have tasted many other things with a better coffee flavor  The chocolate flavor is strong but more of a baking chocolate flavor not candy flavor  Of course since the bar contains zero sugar barely any fat and is gluten free it isnt going to have a rich flavor to it It contains 20 grams of protein but only 10 Calcium and 15 Iron for the RDA  It leaves a strong after taste that made me grab for a beverage to get rid of it  If you like a bitter chocolate flavor then you would like this bar  Personally I wont be eating another of this flavor\n"
                }
            ],
            "source": [
                "print('Most Positive Review:')\n",
                "print(most_positive_review)\n",
                "print()\n",
                "print('Most Negative Review:')\n",
                "print(most_negative_review)"
            ]
        },
        {
            "attachments": {},
            "cell_type": "markdown",
            "metadata": {},
            "source": [
                "Do you notice something special about those reviews? They are both pretty long! Here we just count number of words regardless of the length of the review, but clearly that can affect the results. In practice, one can use some techniques to normalize the counts to avoid prioritizing long reviews over shorter ones (we will discuss this idea in a future week).\n",
                "\n",
                "### **Question 4:** Compute validation accuracy\n",
                "Compute the validation accuracy for the model we just trained. Report the validation accuracy as a number between 0 and 1 stored in a variable called `sentiment_model_validation_accuracy`.\n",
                "\n",
                "Below, calculate the accuracy of the predictor using sklearn's [accuracy_score](https://scikit-learn.org/stable/modules/generated/sklearn.metrics.accuracy_score.html) function. Note that you should use the **predicted labels**, not the predicted probabilities."
            ]
        },
        {
            "cell_type": "code",
            "execution_count": 150,
            "metadata": {},
            "outputs": [],
            "source": [
                "### edTest(test_q4_sentiment_model_accuracy) ###\n",
                "\n",
                "# TODO Find the validation accuracy of the sentiment model\n",
                "predicted_labels = sentiment_model.predict(validation_data[features])\n",
                "sentiment_model_validation_accuracy = accuracy_score(validation_data['sentiment'], predicted_labels)"
            ]
        },
        {
            "attachments": {},
            "cell_type": "markdown",
            "metadata": {},
            "source": [
                "# Create a confusion matrix\n",
                "\n",
                "A common tool used when analyzing the peformance of a predictor in a classification problem is to look at the confusion matrix, as well as the overall accuracy.\n",
                "\n",
                "We've created a function that will plot a confusion matrix for you given a set of inputs which are the values that should appear within each cell.\n",
                "Recall that there are four values associated with a confusion matrix: true positive, true negative, false positive, and false negative which we will abberviate as TP, TN, FP, and FN, respecitvely. In other words, for the next problem we have handled the plotting code for you that you can use, but you will need to compute the values for each of the confusion matrix dimensions."
            ]
        },
        {
            "cell_type": "code",
            "execution_count": 151,
            "metadata": {},
            "outputs": [],
            "source": [
                "def plot_confusion_matrix(tp, fp, fn, tn):\n",
                "    \"\"\"\n",
                "    Plots a confusion matrix using the values \n",
                "       tp - True Positive\n",
                "       fp - False Positive\n",
                "       fn - False Negative\n",
                "       tn - True Negative\n",
                "    \"\"\"\n",
                "    data = np.matrix([[tp, fp], [fn, tn]])\n",
                "\n",
                "    sns.heatmap(data,annot=True,xticklabels=['Actual Pos', 'Actual Neg']\n",
                "              ,yticklabels=['Pred. Pos', 'Pred. Neg']) "
            ]
        },
        {
            "attachments": {},
            "cell_type": "markdown",
            "metadata": {},
            "source": [
                "### **Question 5:** Compute confusion matrix values and plot\n",
                "\n",
                "Write code below that uses the `plot_confusion_matrix` function to show the number of true positive, true negative, false positive, and false negative predictions made by your classifier on the validation set. You should store the counts for each of these values in the variables:\n",
                "* `tp`\n",
                "* `fp`\n",
                "* `fn`\n",
                "* `tn` \n",
                "\n",
                "You might find it useful to use named parameters here (i.e. you can call `plot_confusion_matrix(tp=X, fp=Y, fn=A, tn=B)` instead of having to get the order of the parameters correct).\n",
                "\n",
                "There are multiple ways to solve this. One involves iterating over every datapoint and comparing its prediction to the actual; another involves using [sklearn's confusion_matrix function](https://scikit-learn.org/stable/modules/generated/sklearn.metrics.confusion_matrix.html) (see the examples for an example of using that function for binary classification)."
            ]
        },
        {
            "cell_type": "code",
            "execution_count": 152,
            "metadata": {},
            "outputs": [],
            "source": [
                "### edTest(test_q5_confusion_matrix) ###\n",
                "\n",
                "# TODO Compute the four values tp, fp, fn, tn and plot them using plot_confusion_matrix\n",
                "from sklearn.metrics import confusion_matrix\n",
                "tp = None\n",
                "fp = None\n",
                "tn = None\n",
                "fn = None\n",
                "tn, fp, fn, tp = confusion_matrix(validation_data['sentiment'], predicted_labels).ravel()"
            ]
        },
        {
            "cell_type": "code",
            "execution_count": 153,
            "metadata": {},
            "outputs": [
                {
                    "data": {
                        "image/png": "[encoded data removed]",
                        "text/plain": "\u003cFigure size 640x480 with 2 Axes\u003e"
                    },
                    "metadata": {},
                    "output_type": "display_data"
                }
            ],
            "source": [
                "plot_confusion_matrix(tp=tp, fp=fp, tn=tn, fn=fn)"
            ]
        },
        {
            "attachments": {},
            "cell_type": "markdown",
            "metadata": {},
            "source": [
                "## **Question 6 and 7**: Logistic Regression with L2 regularization\n",
                "\n",
                "One of the challenges of creating features from each word is that there are many more features than observations. It is easy to overfit. We will explore the effect of the regularization in this problem.\n",
                "\n",
                "Now that we have written up all the pieces needed for regularized logistic regression, let's explore the benefits of using **L2 regularization** in analyzing sentiment for product reviews. \n",
                "\n",
                "Like in the last assignment, we will train models with various levels of regularization starting with a small amount and then moving to a  large amount. The code here will have some similarities to the code you did in the last assignment, so you will find that to be a useful reference, but this problem will be slightly more complex since we ask you to compute a few values.\n",
                "\n",
                "This code will be counted as two separate questions since you will be computing slightly different values, but we will ask you to compute both of them in the same starter code to reduce code duplication (since the tasks are very similar). \n",
                "\n",
                "We first outline what you should compute for each question and then show some general implementation notes for both problems below. Your task for this problem is to fill out the code inside the loop to compute the values described below.\n",
                "\n",
                "\u003cspan style=\"color: green;\"\u003eTip!\u003c/span\u003e We recommend focusing on the values you need to compute for Q6 and then once you have that working work on the code you need to compute Q7.\n",
                "\n",
                "### **Question 6:** Coefficient Paths\n",
                "For this question we will ask you to compute the coefficent path for each of the features in the model for various values of the regularization constant.\n",
                "\n",
                "For each regularization strength, train a model using that regularization constant and create a table storing the coefficients of each learned predictor. Store the results in a `DataFrame` named `coef_table`.\n",
                "\n",
                "You should end up with an `DataFrame` with column names as `'coefficients [L2=1e-02]', ... 'coefficients [L2=1e+05]'`, and a row for each word in `features`. It should look something like the following:\n",
                "\n",
                "|     | word | coefficients [L2=1e-02] | coefficients [L2=1e+00] | ... | coefficients [L2=1e+05] |\n",
                "|-----|------|-------------------------|-------------------------|-----|-------------------------|\n",
                "| 0   |  word1 |           ...           |           ...           | ... |           ...           |\n",
                "| 1   |  word2 |           ...           |           ...           | ... |           ...           |\n",
                "| ... |  ..  |           ...           |           ...           | ... |           ...           |\n",
                "\n",
                "Before the loop, we set up `coef_table` to have the right rows and columns, but your code will need to fill out the rest.\n",
                "\n",
                "### **Question 7:** Train and Validation Accuracies\n",
                "Similar to Q6, we want you to compute the training and validation accuracy for each learned predictor and store that in a `DataFrame` called `accuracies_table`. \n",
                "\n",
                "You should end up with a `DataFrame` with column names `'l2_penalty', 'train_accuracy', 'validation_accuracy'` and a row for each L2 penalty tried. The L2 penaly should be the number (not the column name from Q7) and the accuracy values should be numbers between 0 and 1 for the appropriate accuracy. It should look something like the following:\n",
                "\n",
                "|     | l2_penalty | train_accuracy | validation_accuracy |\n",
                "|-----|------------|----------------|---------------------|\n",
                "| 0   |    0.01    |       ...      |         ...         |\n",
                "| 1   |      1     |       ...      |         ...         |\n",
                "| ... |     ..     |       ...      |         ...         |\n",
                "\n",
                "For this problem, we recommend the approach used in HW1 to build up a list of dictionaries, and then convert that to a `DataFrame` with the values described.\n",
                "\n",
                "### Implementation Details\n",
                "\n",
                "Some important notes about your implementation:\n",
                "*  When constructing a `LogisticRegression` object, make sure to use `random_state=1` to get the same results as us. We also want to avoid having an intercept term in this example, so also pass `fit_intercept=False` when constructing the `LogisticRegression` model.\n",
                "* \u003cspan style=\"color:red\"\u003eWhen constructing the LogisticRegression(...) model, the parameter `C` is the **inverse** of $\\lambda$ (i.e., $C=\\frac{1}{\\lambda}$). \u003c/span\u003e\n",
                "* Q7: To store the results of your predictor's coefficients, you will need to get the values from the `.coef_` property. Since the code for this is a little complex, we give you this line below (assumes your trained model is stored in a variable called `model`):\n",
                "  ```\n",
                "  coef_table[column_name] = model.coef_[0]\n",
                "  ```\n",
                "\n",
                "* It is okay if your code prints `ConvergenceWarnings`. This is something you would want to avoid in practice but is okay in our assignment for simplicity.\n",
                "\n",
                "* We recommend just focusing on Q6 at first and getting the code to set up the coefficients table right. Then once that's working, evaluate the models for Q7.\n",
                ""
            ]
        },
        {
            "cell_type": "code",
            "execution_count": 154,
            "metadata": {},
            "outputs": [],
            "source": [
                "### edTest(test_q6_q7_train_models) ###\n",
                "\n",
                "# TODO Fill in the loop below\n",
                "\n",
                "# Set up the regularization penalities to try\n",
                "l2_penalties = [0.01, 1, 4, 10, 1e2, 1e3, 1e5]\n",
                "l2_penalty_names = [f'coefficients [L2={l2_penalty:.0e}]' \n",
                "                    for l2_penalty in l2_penalties]\n",
                "\n",
                "# Q6: Add the coefficients to this coef_table for each model\n",
                "coef_table = pd.DataFrame(columns=['word'] + l2_penalty_names)\n",
                "coef_table['word'] = features\n",
                "\n",
                "# Q7: Set up an empty list to store the accuracies (will convert to DataFrame after loop)\n",
                "accuracy_data = []\n",
                "\n",
                "for l2_penalty, l2_penalty_column_name in zip(l2_penalties, l2_penalty_names):\n",
                "    # TODO(Q6 and Q7): Train the model. Remember to pass `fit_intercept=False` and `random_state=1` to the model.\n",
                "    clf = LogisticRegression(penalty = 'l2', C = 1/l2_penalty,fit_intercept=False, random_state=1\n",
                "                    ).fit(train_data[features], train_data['sentiment'])\n",
                "    # TODO(Q6): Save the coefficients in coef_table\n",
                "    coef_table[l2_penalty_column_name] = clf.coef_[0]\n",
                "    # TODO(Q7): Calculate and save the train and validation accuracies\n",
                "    valid_acc = accuracy_score(validation_data['sentiment'], clf.predict(validation_data[features]))\n",
                "    train_acc = accuracy_score(train_data['sentiment'], clf.predict(train_data[features]))\n",
                "    accuracy_data.append({'l2_penalty': l2_penalty, 'train_accuracy': train_acc, 'validation_accuracy': valid_acc})\n",
                "    \n",
                "accuracies_table = pd.DataFrame(accuracy_data)"
            ]
        },
        {
            "cell_type": "code",
            "execution_count": 155,
            "metadata": {},
            "outputs": [
                {
                    "data": {
                        "text/html": "\u003cdiv\u003e\n\u003cstyle scoped\u003e\n    .dataframe tbody tr th:only-of-type {\n        vertical-align: middle;\n    }\n\n    .dataframe tbody tr th {\n        vertical-align: top;\n    }\n\n    .dataframe thead th {\n        text-align: right;\n    }\n\u003c/style\u003e\n\u003ctable border=\"1\" class=\"dataframe\"\u003e\n  \u003cthead\u003e\n    \u003ctr style=\"text-align: right;\"\u003e\n      \u003cth\u003e\u003c/th\u003e\n      \u003cth\u003eword\u003c/th\u003e\n      \u003cth\u003ecoefficients [L2=1e-02]\u003c/th\u003e\n      \u003cth\u003ecoefficients [L2=1e+00]\u003c/th\u003e\n      \u003cth\u003ecoefficients [L2=4e+00]\u003c/th\u003e\n      \u003cth\u003ecoefficients [L2=1e+01]\u003c/th\u003e\n      \u003cth\u003ecoefficients [L2=1e+02]\u003c/th\u003e\n      \u003cth\u003ecoefficients [L2=1e+03]\u003c/th\u003e\n      \u003cth\u003ecoefficients [L2=1e+05]\u003c/th\u003e\n    \u003c/tr\u003e\n  \u003c/thead\u003e\n  \u003ctbody\u003e\n    \u003ctr\u003e\n      \u003cth\u003e0\u003c/th\u003e\n      \u003ctd\u003e0000\u003c/td\u003e\n      \u003ctd\u003e0.107215\u003c/td\u003e\n      \u003ctd\u003e0.030762\u003c/td\u003e\n      \u003ctd\u003e0.017188\u003c/td\u003e\n      \u003ctd\u003e0.010918\u003c/td\u003e\n      \u003ctd\u003e0.002989\u003c/td\u003e\n      \u003ctd\u003e0.000476\u003c/td\u003e\n      \u003ctd\u003e5.045637e-06\u003c/td\u003e\n    \u003c/tr\u003e\n    \u003ctr\u003e\n      \u003cth\u003e1\u003c/th\u003e\n      \u003ctd\u003e002\u003c/td\u003e\n      \u003ctd\u003e-0.019075\u003c/td\u003e\n      \u003ctd\u003e-0.001973\u003c/td\u003e\n      \u003ctd\u003e-0.002153\u003c/td\u003e\n      \u003ctd\u003e-0.001966\u003c/td\u003e\n      \u003ctd\u003e-0.000746\u003c/td\u003e\n      \u003ctd\u003e-0.000099\u003c/td\u003e\n      \u003ctd\u003e-4.085575e-06\u003c/td\u003e\n    \u003c/tr\u003e\n    \u003ctr\u003e\n      \u003cth\u003e2\u003c/th\u003e\n      \u003ctd\u003e004\u003c/td\u003e\n      \u003ctd\u003e-0.019075\u003c/td\u003e\n      \u003ctd\u003e-0.001973\u003c/td\u003e\n      \u003ctd\u003e-0.002153\u003c/td\u003e\n      \u003ctd\u003e-0.001966\u003c/td\u003e\n      \u003ctd\u003e-0.000746\u003c/td\u003e\n      \u003ctd\u003e-0.000099\u003c/td\u003e\n      \u003ctd\u003e-4.085575e-06\u003c/td\u003e\n    \u003c/tr\u003e\n    \u003ctr\u003e\n      \u003cth\u003e3\u003c/th\u003e\n      \u003ctd\u003e004oz\u003c/td\u003e\n      \u003ctd\u003e-0.019075\u003c/td\u003e\n      \u003ctd\u003e-0.001973\u003c/td\u003e\n      \u003ctd\u003e-0.002153\u003c/td\u003e\n      \u003ctd\u003e-0.001966\u003c/td\u003e\n      \u003ctd\u003e-0.000746\u003c/td\u003e\n      \u003ctd\u003e-0.000099\u003c/td\u003e\n      \u003ctd\u003e-4.085575e-06\u003c/td\u003e\n    \u003c/tr\u003e\n    \u003ctr\u003e\n      \u003cth\u003e4\u003c/th\u003e\n      \u003ctd\u003e012months\u003c/td\u003e\n      \u003ctd\u003e0.032081\u003c/td\u003e\n      \u003ctd\u003e0.001532\u003c/td\u003e\n      \u003ctd\u003e0.001615\u003c/td\u003e\n      \u003ctd\u003e0.001501\u003c/td\u003e\n      \u003ctd\u003e0.001130\u003c/td\u003e\n      \u003ctd\u003e0.000399\u003c/td\u003e\n      \u003ctd\u003e5.049857e-06\u003c/td\u003e\n    \u003c/tr\u003e\n    \u003ctr\u003e\n      \u003cth\u003e...\u003c/th\u003e\n      \u003ctd\u003e...\u003c/td\u003e\n      \u003ctd\u003e...\u003c/td\u003e\n      \u003ctd\u003e...\u003c/td\u003e\n      \u003ctd\u003e...\u003c/td\u003e\n      \u003ctd\u003e...\u003c/td\u003e\n      \u003ctd\u003e...\u003c/td\u003e\n      \u003ctd\u003e...\u003c/td\u003e\n      \u003ctd\u003e...\u003c/td\u003e\n    \u003c/tr\u003e\n    \u003ctr\u003e\n      \u003cth\u003e7620\u003c/th\u003e\n      \u003ctd\u003ezicos\u003c/td\u003e\n      \u003ctd\u003e-0.131704\u003c/td\u003e\n      \u003ctd\u003e-0.055637\u003c/td\u003e\n      \u003ctd\u003e-0.030848\u003c/td\u003e\n      \u003ctd\u003e-0.018653\u003c/td\u003e\n      \u003ctd\u003e-0.003718\u003c/td\u003e\n      \u003ctd\u003e-0.000447\u003c/td\u003e\n      \u003ctd\u003e-4.923324e-06\u003c/td\u003e\n    \u003c/tr\u003e\n    \u003ctr\u003e\n      \u003cth\u003e7621\u003c/th\u003e\n      \u003ctd\u003ezillion\u003c/td\u003e\n      \u003ctd\u003e-0.073327\u003c/td\u003e\n      \u003ctd\u003e-0.037442\u003c/td\u003e\n      \u003ctd\u003e-0.029708\u003c/td\u003e\n      \u003ctd\u003e-0.020870\u003c/td\u003e\n      \u003ctd\u003e-0.004020\u003c/td\u003e\n      \u003ctd\u003e-0.000466\u003c/td\u003e\n      \u003ctd\u003e-4.973674e-06\u003c/td\u003e\n    \u003c/tr\u003e\n    \u003ctr\u003e\n      \u003cth\u003e7622\u003c/th\u003e\n      \u003ctd\u003ezinger\u003c/td\u003e\n      \u003ctd\u003e-0.029916\u003c/td\u003e\n      \u003ctd\u003e-0.003715\u003c/td\u003e\n      \u003ctd\u003e-0.004730\u003c/td\u003e\n      \u003ctd\u003e-0.004572\u003c/td\u003e\n      \u003ctd\u003e-0.002496\u003c/td\u003e\n      \u003ctd\u003e-0.000412\u003c/td\u003e\n      \u003ctd\u003e-4.893557e-06\u003c/td\u003e\n    \u003c/tr\u003e\n    \u003ctr\u003e\n      \u003cth\u003e7623\u003c/th\u003e\n      \u003ctd\u003ezip\u003c/td\u003e\n      \u003ctd\u003e0.111437\u003c/td\u003e\n      \u003ctd\u003e0.051768\u003c/td\u003e\n      \u003ctd\u003e0.033141\u003c/td\u003e\n      \u003ctd\u003e0.022192\u003c/td\u003e\n      \u003ctd\u003e0.005980\u003c/td\u003e\n      \u003ctd\u003e0.001038\u003c/td\u003e\n      \u003ctd\u003e1.027987e-05\u003c/td\u003e\n    \u003c/tr\u003e\n    \u003ctr\u003e\n      \u003cth\u003e7624\u003c/th\u003e\n      \u003ctd\u003eziplock\u003c/td\u003e\n      \u003ctd\u003e0.085013\u003c/td\u003e\n      \u003ctd\u003e0.035280\u003c/td\u003e\n      \u003ctd\u003e0.020182\u003c/td\u003e\n      \u003ctd\u003e0.012145\u003c/td\u003e\n      \u003ctd\u003e0.002320\u003c/td\u003e\n      \u003ctd\u003e0.000227\u003c/td\u003e\n      \u003ctd\u003e2.699920e-07\u003c/td\u003e\n    \u003c/tr\u003e\n  \u003c/tbody\u003e\n\u003c/table\u003e\n\u003cp\u003e7625 rows × 8 columns\u003c/p\u003e\n\u003c/div\u003e",
                        "text/plain": "           word  coefficients [L2=1e-02]  coefficients [L2=1e+00]  \\\n0          0000                 0.107215                 0.030762   \n1           002                -0.019075                -0.001973   \n2           004                -0.019075                -0.001973   \n3         004oz                -0.019075                -0.001973   \n4     012months                 0.032081                 0.001532   \n...         ...                      ...                      ...   \n7620      zicos                -0.131704                -0.055637   \n7621    zillion                -0.073327                -0.037442   \n7622     zinger                -0.029916                -0.003715   \n7623        zip                 0.111437                 0.051768   \n7624    ziplock                 0.085013                 0.035280   \n\n      coefficients [L2=4e+00]  coefficients [L2=1e+01]  \\\n0                    0.017188                 0.010918   \n1                   -0.002153                -0.001966   \n2                   -0.002153                -0.001966   \n3                   -0.002153                -0.001966   \n4                    0.001615                 0.001501   \n...                       ...                      ...   \n7620                -0.030848                -0.018653   \n7621                -0.029708                -0.020870   \n7622                -0.004730                -0.004572   \n7623                 0.033141                 0.022192   \n7624                 0.020182                 0.012145   \n\n      coefficients [L2=1e+02]  coefficients [L2=1e+03]  \\\n0                    0.002989                 0.000476   \n1                   -0.000746                -0.000099   \n2                   -0.000746                -0.000099   \n3                   -0.000746                -0.000099   \n4                    0.001130                 0.000399   \n...                       ...                      ...   \n7620                -0.003718                -0.000447   \n7621                -0.004020                -0.000466   \n7622                -0.002496                -0.000412   \n7623                 0.005980                 0.001038   \n7624                 0.002320                 0.000227   \n\n      coefficients [L2=1e+05]  \n0                5.045637e-06  \n1               -4.085575e-06  \n2               -4.085575e-06  \n3               -4.085575e-06  \n4                5.049857e-06  \n...                       ...  \n7620            -4.923324e-06  \n7621            -4.973674e-06  \n7622            -4.893557e-06  \n7623             1.027987e-05  \n7624             2.699920e-07  \n\n[7625 rows x 8 columns]"
                    },
                    "execution_count": 155,
                    "metadata": {},
                    "output_type": "execute_result"
                }
            ],
            "source": [
                "# Look at coef_table\n",
                "coef_table"
            ]
        },
        {
            "cell_type": "code",
            "execution_count": 156,
            "metadata": {},
            "outputs": [
                {
                    "data": {
                        "text/html": "\u003cdiv\u003e\n\u003cstyle scoped\u003e\n    .dataframe tbody tr th:only-of-type {\n        vertical-align: middle;\n    }\n\n    .dataframe tbody tr th {\n        vertical-align: top;\n    }\n\n    .dataframe thead th {\n        text-align: right;\n    }\n\u003c/style\u003e\n\u003ctable border=\"1\" class=\"dataframe\"\u003e\n  \u003cthead\u003e\n    \u003ctr style=\"text-align: right;\"\u003e\n      \u003cth\u003e\u003c/th\u003e\n      \u003cth\u003el2_penalty\u003c/th\u003e\n      \u003cth\u003etrain_accuracy\u003c/th\u003e\n      \u003cth\u003evalidation_accuracy\u003c/th\u003e\n    \u003c/tr\u003e\n  \u003c/thead\u003e\n  \u003ctbody\u003e\n    \u003ctr\u003e\n      \u003cth\u003e0\u003c/th\u003e\n      \u003ctd\u003e0.01\u003c/td\u003e\n      \u003ctd\u003e1.000000\u003c/td\u003e\n      \u003ctd\u003e0.651685\u003c/td\u003e\n    \u003c/tr\u003e\n    \u003ctr\u003e\n      \u003cth\u003e1\u003c/th\u003e\n      \u003ctd\u003e1.00\u003c/td\u003e\n      \u003ctd\u003e0.998594\u003c/td\u003e\n      \u003ctd\u003e0.685393\u003c/td\u003e\n    \u003c/tr\u003e\n    \u003ctr\u003e\n      \u003cth\u003e2\u003c/th\u003e\n      \u003ctd\u003e4.00\u003c/td\u003e\n      \u003ctd\u003e0.995781\u003c/td\u003e\n      \u003ctd\u003e0.685393\u003c/td\u003e\n    \u003c/tr\u003e\n    \u003ctr\u003e\n      \u003cth\u003e3\u003c/th\u003e\n      \u003ctd\u003e10.00\u003c/td\u003e\n      \u003ctd\u003e0.976090\u003c/td\u003e\n      \u003ctd\u003e0.696629\u003c/td\u003e\n    \u003c/tr\u003e\n    \u003ctr\u003e\n      \u003cth\u003e4\u003c/th\u003e\n      \u003ctd\u003e100.00\u003c/td\u003e\n      \u003ctd\u003e0.895921\u003c/td\u003e\n      \u003ctd\u003e0.719101\u003c/td\u003e\n    \u003c/tr\u003e\n    \u003ctr\u003e\n      \u003cth\u003e5\u003c/th\u003e\n      \u003ctd\u003e1000.00\u003c/td\u003e\n      \u003ctd\u003e0.734177\u003c/td\u003e\n      \u003ctd\u003e0.674157\u003c/td\u003e\n    \u003c/tr\u003e\n    \u003ctr\u003e\n      \u003cth\u003e6\u003c/th\u003e\n      \u003ctd\u003e100000.00\u003c/td\u003e\n      \u003ctd\u003e0.502110\u003c/td\u003e\n      \u003ctd\u003e0.516854\u003c/td\u003e\n    \u003c/tr\u003e\n  \u003c/tbody\u003e\n\u003c/table\u003e\n\u003c/div\u003e",
                        "text/plain": "   l2_penalty  train_accuracy  validation_accuracy\n0        0.01        1.000000             0.651685\n1        1.00        0.998594             0.685393\n2        4.00        0.995781             0.685393\n3       10.00        0.976090             0.696629\n4      100.00        0.895921             0.719101\n5     1000.00        0.734177             0.674157\n6   100000.00        0.502110             0.516854"
                    },
                    "execution_count": 156,
                    "metadata": {},
                    "output_type": "execute_result"
                }
            ],
            "source": [
                "# Look at accuracies_table\n",
                "accuracies_table"
            ]
        },
        {
            "attachments": {},
            "cell_type": "markdown",
            "metadata": {},
            "source": [
                "## **Question 8:** Inspect Coefficients\n",
                "\n",
                "We'll now look at the **coefficients** for the model that were trained above. We will create a table of features and learned coefficients associated with each of the different L2 penalty values.\n",
                "\n",
                "Using **the coefficients trained with L2 penalty 1**, find the 5 most positive words (with largest positive coefficients). Save them to `positive_words`. Similarly, find the 5 most negative words (with largest negative coefficients) and save them to `negative_words`. The result should be the `'word'` column for the these rows. \n",
                "\n",
                "To be specific, the type of the value we are looking for is a `Series` in `pandas` which is the type of a single row or column in a `DataFrame`. When you have a `DataFrame`, it is a structure with rows and columns. When you access a single column as in `df[column_name]`, this returns a `Series` representing that one column. \n",
                "\n",
                "This means your result for each one of these variables should be a `Series` of length 5 for the respective words.\n",
                "\n",
                "\n",
                "*Hint:* You can use the `.nlargest()` and `.nsmallest()` method on an DataFrame to find the top `n` rows sorted according to the value of a specified column. Here is the documentation for [nlargest](https://pandas.pydata.org/docs/reference/api/pandas.DataFrame.nlargest.html)."
            ]
        },
        {
            "cell_type": "code",
            "execution_count": 167,
            "metadata": {},
            "outputs": [],
            "source": [
                "### edTest(test_q8_most_positive_negative) ###\n",
                "\n",
                "\n",
                "# TODO Compute words with the 5 largest coefficients and 5 smallest coefficients\n",
                "sorted_coef = coef_table.sort_values(by=['coefficients [L2=1e+00]'])\n",
                "positive_words = sorted_coef.tail(5)['word'].iloc[::-1]\n",
                "negative_words = sorted_coef.head(5)['word']"
            ]
        },
        {
            "cell_type": "code",
            "execution_count": 165,
            "metadata": {},
            "outputs": [
                {
                    "name": "stdout",
                    "output_type": "stream",
                    "text": "1925       days\n3037       good\n4981    perfect\n863        best\n3096      great\nName: word, dtype: object\n4586          not\n1398    chocolate\n6862      thought\n919         bland\n4177          may\nName: word, dtype: object\n"
                }
            ],
            "source": [
                "print(positive_words)\n",
                "print(negative_words)"
            ]
        },
        {
            "attachments": {},
            "cell_type": "markdown",
            "metadata": {},
            "source": [
                "Let us observe the effect of increasing L2 penalty on the 10 words just selected. We provide you with a utility function to  plot the coefficient path."
            ]
        },
        {
            "cell_type": "code",
            "execution_count": 159,
            "metadata": {},
            "outputs": [
                {
                    "data": {
                        "image/png": "[encoded data removed]",
                        "text/plain": "\u003cFigure size 1000x600 with 1 Axes\u003e"
                    },
                    "metadata": {},
                    "output_type": "display_data"
                },
                {
                    "ename": "TypeError",
                    "evalue": "only list-like objects are allowed to be passed to isin(), you passed a [NoneType]",
                    "output_type": "error",
                    "traceback": [
                        "\u001b[0;31m---------------------------------------------------------------------------\u001b[0m",
                        "\u001b[0;31mTypeError\u001b[0m                                 Traceback (most recent call last)",
                        "Cell \u001b[0;32mIn[1], line 49\u001b[0m\n\u001b[1;32m     45\u001b[0m     ax\u001b[38;5;241m.\u001b[39mset_ylabel(\u001b[38;5;124m'\u001b[39m\u001b[38;5;124mCoefficient value\u001b[39m\u001b[38;5;124m'\u001b[39m)\n\u001b[1;32m     46\u001b[0m     ax\u001b[38;5;241m.\u001b[39mset_xscale(\u001b[38;5;124m'\u001b[39m\u001b[38;5;124mlog\u001b[39m\u001b[38;5;124m'\u001b[39m)\n\u001b[0;32m---\u003e 49\u001b[0m \u001b[43mmake_coefficient_plot\u001b[49m\u001b[43m(\u001b[49m\u001b[43mcoef_table\u001b[49m\u001b[43m,\u001b[49m\u001b[43m \u001b[49m\u001b[43mpositive_words\u001b[49m\u001b[43m,\u001b[49m\u001b[43m \u001b[49m\u001b[43mnegative_words\u001b[49m\u001b[43m,\u001b[49m\u001b[43m \u001b[49m\u001b[43ml2_penalty_list\u001b[49m\u001b[38;5;241;43m=\u001b[39;49m\u001b[43ml2_penalties\u001b[49m\u001b[43m)\u001b[49m\n",
                        "Cell \u001b[0;32mIn[1], line 38\u001b[0m, in \u001b[0;36mmake_coefficient_plot\u001b[0;34m(table, positive_words, negative_words, l2_penalty_list)\u001b[0m\n\u001b[1;32m     36\u001b[0m cmap_positive \u001b[38;5;241m=\u001b[39m plt\u001b[38;5;241m.\u001b[39mget_cmap(\u001b[38;5;124m'\u001b[39m\u001b[38;5;124mReds\u001b[39m\u001b[38;5;124m'\u001b[39m)\n\u001b[1;32m     37\u001b[0m cmap_negative \u001b[38;5;241m=\u001b[39m plt\u001b[38;5;241m.\u001b[39mget_cmap(\u001b[38;5;124m'\u001b[39m\u001b[38;5;124mBlues\u001b[39m\u001b[38;5;124m'\u001b[39m)\n\u001b[0;32m---\u003e 38\u001b[0m \u001b[43mplot_coeffs_for_words\u001b[49m\u001b[43m(\u001b[49m\u001b[43max\u001b[49m\u001b[43m,\u001b[49m\u001b[43m \u001b[49m\u001b[43mpositive_words\u001b[49m\u001b[43m,\u001b[49m\u001b[43m \u001b[49m\u001b[43mcmap_positive\u001b[49m\u001b[43m)\u001b[49m\n\u001b[1;32m     39\u001b[0m plot_coeffs_for_words(ax, negative_words, cmap_negative)\n\u001b[1;32m     41\u001b[0m \u001b[38;5;66;03m# Set up axis labels, scale, and legend  \u001b[39;00m\n",
                        "Cell \u001b[0;32mIn[1], line 20\u001b[0m, in \u001b[0;36mmake_coefficient_plot.\u003clocals\u003e.plot_coeffs_for_words\u001b[0;34m(ax, words, cmap)\u001b[0m\n\u001b[1;32m     15\u001b[0m \u001b[38;5;28;01mdef\u001b[39;00m \u001b[38;5;21mplot_coeffs_for_words\u001b[39m(ax, words, cmap):\n\u001b[1;32m     16\u001b[0m \u001b[38;5;250m    \u001b[39m\u001b[38;5;124;03m\"\"\"\u001b[39;00m\n\u001b[1;32m     17\u001b[0m \u001b[38;5;124;03m    Given an axes to plot on and a list of words and a cmap,\u001b[39;00m\n\u001b[1;32m     18\u001b[0m \u001b[38;5;124;03m    plots the coefficient paths for each word in words\u001b[39;00m\n\u001b[1;32m     19\u001b[0m \u001b[38;5;124;03m    \"\"\"\u001b[39;00m\n\u001b[0;32m---\u003e 20\u001b[0m     words_df \u001b[38;5;241m=\u001b[39m table[\u001b[43mtable\u001b[49m\u001b[43m[\u001b[49m\u001b[38;5;124;43m'\u001b[39;49m\u001b[38;5;124;43mword\u001b[39;49m\u001b[38;5;124;43m'\u001b[39;49m\u001b[43m]\u001b[49m\u001b[38;5;241;43m.\u001b[39;49m\u001b[43misin\u001b[49m\u001b[43m(\u001b[49m\u001b[43mwords\u001b[49m\u001b[43m)\u001b[49m]\n\u001b[1;32m     21\u001b[0m     words_df \u001b[38;5;241m=\u001b[39m words_df\u001b[38;5;241m.\u001b[39mreset_index(drop\u001b[38;5;241m=\u001b[39m\u001b[38;5;28;01mTrue\u001b[39;00m)  \u001b[38;5;66;03m# To make indices sequential\u001b[39;00m\n\u001b[1;32m     23\u001b[0m     \u001b[38;5;28;01mfor\u001b[39;00m i, row \u001b[38;5;129;01min\u001b[39;00m words_df\u001b[38;5;241m.\u001b[39miterrows():\n",
                        "File \u001b[0;32m/usr/lib/python3.11/site-packages/pandas/core/series.py:5563\u001b[0m, in \u001b[0;36mSeries.isin\u001b[0;34m(self, values)\u001b[0m\n\u001b[1;32m   5490\u001b[0m \u001b[38;5;28;01mdef\u001b[39;00m \u001b[38;5;21misin\u001b[39m(\u001b[38;5;28mself\u001b[39m, values) \u001b[38;5;241m-\u001b[39m\u001b[38;5;241m\u003e\u001b[39m Series:\n\u001b[1;32m   5491\u001b[0m \u001b[38;5;250m    \u001b[39m\u001b[38;5;124;03m\"\"\"\u001b[39;00m\n\u001b[1;32m   5492\u001b[0m \u001b[38;5;124;03m    Whether elements in Series are contained in `values`.\u001b[39;00m\n\u001b[1;32m   5493\u001b[0m \n\u001b[0;32m   (...)\u001b[0m\n\u001b[1;32m   5561\u001b[0m \u001b[38;5;124;03m    dtype: bool\u001b[39;00m\n\u001b[1;32m   5562\u001b[0m \u001b[38;5;124;03m    \"\"\"\u001b[39;00m\n\u001b[0;32m-\u003e 5563\u001b[0m     result \u001b[38;5;241m=\u001b[39m \u001b[43malgorithms\u001b[49m\u001b[38;5;241;43m.\u001b[39;49m\u001b[43misin\u001b[49m\u001b[43m(\u001b[49m\u001b[38;5;28;43mself\u001b[39;49m\u001b[38;5;241;43m.\u001b[39;49m\u001b[43m_values\u001b[49m\u001b[43m,\u001b[49m\u001b[43m \u001b[49m\u001b[43mvalues\u001b[49m\u001b[43m)\u001b[49m\n\u001b[1;32m   5564\u001b[0m     \u001b[38;5;28;01mreturn\u001b[39;00m \u001b[38;5;28mself\u001b[39m\u001b[38;5;241m.\u001b[39m_constructor(result, index\u001b[38;5;241m=\u001b[39m\u001b[38;5;28mself\u001b[39m\u001b[38;5;241m.\u001b[39mindex)\u001b[38;5;241m.\u001b[39m__finalize__(\n\u001b[1;32m   5565\u001b[0m         \u001b[38;5;28mself\u001b[39m, method\u001b[38;5;241m=\u001b[39m\u001b[38;5;124m\"\u001b[39m\u001b[38;5;124misin\u001b[39m\u001b[38;5;124m\"\u001b[39m\n\u001b[1;32m   5566\u001b[0m     )\n",
                        "File \u001b[0;32m/usr/lib/python3.11/site-packages/pandas/core/algorithms.py:459\u001b[0m, in \u001b[0;36misin\u001b[0;34m(comps, values)\u001b[0m\n\u001b[1;32m    454\u001b[0m     \u001b[38;5;28;01mraise\u001b[39;00m \u001b[38;5;167;01mTypeError\u001b[39;00m(\n\u001b[1;32m    455\u001b[0m         \u001b[38;5;124m\"\u001b[39m\u001b[38;5;124monly list-like objects are allowed to be passed \u001b[39m\u001b[38;5;124m\"\u001b[39m\n\u001b[1;32m    456\u001b[0m         \u001b[38;5;124mf\u001b[39m\u001b[38;5;124m\"\u001b[39m\u001b[38;5;124mto isin(), you passed a [\u001b[39m\u001b[38;5;132;01m{\u001b[39;00m\u001b[38;5;28mtype\u001b[39m(comps)\u001b[38;5;241m.\u001b[39m\u001b[38;5;18m__name__\u001b[39m\u001b[38;5;132;01m}\u001b[39;00m\u001b[38;5;124m]\u001b[39m\u001b[38;5;124m\"\u001b[39m\n\u001b[1;32m    457\u001b[0m     )\n\u001b[1;32m    458\u001b[0m \u001b[38;5;28;01mif\u001b[39;00m \u001b[38;5;129;01mnot\u001b[39;00m is_list_like(values):\n\u001b[0;32m--\u003e 459\u001b[0m     \u001b[38;5;28;01mraise\u001b[39;00m \u001b[38;5;167;01mTypeError\u001b[39;00m(\n\u001b[1;32m    460\u001b[0m         \u001b[38;5;124m\"\u001b[39m\u001b[38;5;124monly list-like objects are allowed to be passed \u001b[39m\u001b[38;5;124m\"\u001b[39m\n\u001b[1;32m    461\u001b[0m         \u001b[38;5;124mf\u001b[39m\u001b[38;5;124m\"\u001b[39m\u001b[38;5;124mto isin(), you passed a [\u001b[39m\u001b[38;5;132;01m{\u001b[39;00m\u001b[38;5;28mtype\u001b[39m(values)\u001b[38;5;241m.\u001b[39m\u001b[38;5;18m__name__\u001b[39m\u001b[38;5;132;01m}\u001b[39;00m\u001b[38;5;124m]\u001b[39m\u001b[38;5;124m\"\u001b[39m\n\u001b[1;32m    462\u001b[0m     )\n\u001b[1;32m    464\u001b[0m \u001b[38;5;28;01mif\u001b[39;00m \u001b[38;5;129;01mnot\u001b[39;00m \u001b[38;5;28misinstance\u001b[39m(values, (ABCIndex, ABCSeries, ABCExtensionArray, np\u001b[38;5;241m.\u001b[39mndarray)):\n\u001b[1;32m    465\u001b[0m     orig_values \u001b[38;5;241m=\u001b[39m values\n",
                        "\u001b[0;31mTypeError\u001b[0m: only list-like objects are allowed to be passed to isin(), you passed a [NoneType]"
                    ]
                }
            ],
            "source": [
                "def make_coefficient_plot(table, positive_words, negative_words, l2_penalty_list):\n",
                "    \"\"\"\n",
                "    Makes a plot of coefficients, given a table where rows correspond to words and\n",
                "    columns correspond to the l2 penalty, a list of positive words, a list of \n",
                "    negative words, and a list of l2 penalties.\n",
                "    \"\"\"\n",
                "    def get_cmap_value(cmap, i, total_words):\n",
                "        \"\"\"\n",
                "        Computes a nice scaling of from i=0 to i=total_words - 1\n",
                "        for the given cmap\n",
                "        \"\"\"\n",
                "        return cmap(0.8 * ((i + 1) / (total_words * 1.2) + 0.15))\n",
                "\n",
                "\n",
                "    def plot_coeffs_for_words(ax, words, cmap):\n",
                "        \"\"\"\n",
                "        Given an axes to plot on and a list of words and a cmap,\n",
                "        plots the coefficient paths for each word in words\n",
                "        \"\"\"\n",
                "        words_df = table[table['word'].isin(words)]\n",
                "        words_df = words_df.reset_index(drop=True)  # To make indices sequential\n",
                "\n",
                "        for i, row in words_df.iterrows():\n",
                "            color = get_cmap_value(cmap, i, len(words))\n",
                "            ax.plot(xx, row[row.index != 'word'], '-',\n",
                "                    label=row['word'], linewidth=4.0, color=color)\n",
                "\n",
                "    # Make a canvas to draw on\n",
                "    fig, ax = plt.subplots(1, figsize=(10, 6))\n",
                "   \n",
                "    # Set up the xs to plot and draw a line for y=0\n",
                "    xx = l2_penalty_list\n",
                "    ax.plot(xx, [0.] * len(xx), '--', linewidth=1, color='k')\n",
                "\n",
                "    # Plot the positive and negative coefficient paths\n",
                "    cmap_positive = plt.get_cmap('Reds')\n",
                "    cmap_negative = plt.get_cmap('Blues')\n",
                "    plot_coeffs_for_words(ax, positive_words, cmap_positive)\n",
                "    plot_coeffs_for_words(ax, negative_words, cmap_negative)\n",
                "\n",
                "    # Set up axis labels, scale, and legend  \n",
                "    ax.legend(loc='best', ncol=2, prop={'size':16}, columnspacing=0.5 )\n",
                "    ax.set_title('Coefficient path')\n",
                "    ax.set_xlabel('L2 penalty ($\\lambda$)')\n",
                "    ax.set_ylabel('Coefficient value')\n",
                "    ax.set_xscale('log')\n",
                "\n",
                "\n",
                "make_coefficient_plot(coef_table, positive_words, negative_words, l2_penalty_list=l2_penalties)"
            ]
        }
    ]
}
