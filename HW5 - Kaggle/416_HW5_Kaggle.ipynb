{
  "nbformat": 4,
  "nbformat_minor": 0,
  "metadata": {
    "colab": {
      "provenance": []
    },
    "kernelspec": {
      "name": "python3",
      "display_name": "Python 3"
    },
    "language_info": {
      "name": "python"
    }
  },
  "cells": [
    {
      "cell_type": "markdown",
      "source": [
        "# **Kaggle HW5: mnochi**"
      ],
      "metadata": {
        "id": "mPZLxHG7N9mu"
      }
    },
    {
      "cell_type": "markdown",
      "source": [
        "**Remember to write your team name above, which MUST match your team name on Kaggle!!** Assignments without a team name will receive a 0/40 on the \"accuracy on test data\" component of this assignment's grade."
      ],
      "metadata": {
        "id": "lRZ0yjtqYELC"
      }
    },
    {
      "cell_type": "markdown",
      "source": [
        "### **Load the Data**"
      ],
      "metadata": {
        "id": "lwnjXjk4B41V"
      }
    },
    {
      "cell_type": "code",
      "metadata": {
        "id": "4WRff5x-3TYI"
      },
      "source": [
        "# This cell is necessary only if you are running on Google Colab. It downloads the files to your\n",
        "# Colab instance so you don't have to upload them here.\n",
        "\n",
        "import requests\n",
        "\n",
        "def save_file(url, file_name):\n",
        "    r = requests.get(url)\n",
        "    with open(file_name, 'wb') as f:\n",
        "      f.write(r.content)\n",
        "\n",
        "save_file('https://courses.cs.washington.edu/courses/cse416/23sp/homeworks/hw5/edx_train.csv',\n",
        "          'edx_train.csv')\n",
        "save_file('https://courses.cs.washington.edu/courses/cse416/23sp/homeworks/hw5/edx_test.csv',\n",
        "          'edx_test.csv')"
      ],
      "execution_count": 2,
      "outputs": []
    },
    {
      "cell_type": "markdown",
      "source": [
        "### **Sample Code: Random Classifier**\n",
        "\n",
        "**NOTE**: This classifier **DOES NOT** count as one of the 2 required for this assignment! It is merely here to illstrate how to submit your predictions.\n",
        "\n",
        "See the Kaggle assignment (Data tab) for a description of each column in the dataset. You are creating a classifier to predict whether or not a student will get certified, stored in the `\"certified\"` column."
      ],
      "metadata": {
        "id": "4RBuRNVKB_sa"
      }
    },
    {
      "cell_type": "code",
      "source": [
        "import pandas as pd\n",
        "from sklearn.dummy import DummyClassifier\n",
        "\n",
        "target = \"certified\" # target column\n",
        "\n",
        "# This classifier returns labels sampled uniformly at random\n",
        "df_train = pd.read_csv('edx_train.csv')\n",
        "dummy_model = DummyClassifier(strategy=\"uniform\")\n",
        "dummy_model.fit(df_train.drop(target, axis=1), df_train[target])"
      ],
      "metadata": {
        "id": "O_mvbzSAd5dU",
        "colab": {
          "base_uri": "https://localhost:8080/",
          "height": 52
        },
        "outputId": "8d7ff0d1-6865-4cda-a15f-855826cc77cd"
      },
      "execution_count": 3,
      "outputs": [
        {
          "output_type": "execute_result",
          "data": {
            "text/plain": [
              "DummyClassifier(strategy='uniform')"
            ],
            "text/html": [
              "<style>#sk-container-id-1 {color: black;background-color: white;}#sk-container-id-1 pre{padding: 0;}#sk-container-id-1 div.sk-toggleable {background-color: white;}#sk-container-id-1 label.sk-toggleable__label {cursor: pointer;display: block;width: 100%;margin-bottom: 0;padding: 0.3em;box-sizing: border-box;text-align: center;}#sk-container-id-1 label.sk-toggleable__label-arrow:before {content: \"▸\";float: left;margin-right: 0.25em;color: #696969;}#sk-container-id-1 label.sk-toggleable__label-arrow:hover:before {color: black;}#sk-container-id-1 div.sk-estimator:hover label.sk-toggleable__label-arrow:before {color: black;}#sk-container-id-1 div.sk-toggleable__content {max-height: 0;max-width: 0;overflow: hidden;text-align: left;background-color: #f0f8ff;}#sk-container-id-1 div.sk-toggleable__content pre {margin: 0.2em;color: black;border-radius: 0.25em;background-color: #f0f8ff;}#sk-container-id-1 input.sk-toggleable__control:checked~div.sk-toggleable__content {max-height: 200px;max-width: 100%;overflow: auto;}#sk-container-id-1 input.sk-toggleable__control:checked~label.sk-toggleable__label-arrow:before {content: \"▾\";}#sk-container-id-1 div.sk-estimator input.sk-toggleable__control:checked~label.sk-toggleable__label {background-color: #d4ebff;}#sk-container-id-1 div.sk-label input.sk-toggleable__control:checked~label.sk-toggleable__label {background-color: #d4ebff;}#sk-container-id-1 input.sk-hidden--visually {border: 0;clip: rect(1px 1px 1px 1px);clip: rect(1px, 1px, 1px, 1px);height: 1px;margin: -1px;overflow: hidden;padding: 0;position: absolute;width: 1px;}#sk-container-id-1 div.sk-estimator {font-family: monospace;background-color: #f0f8ff;border: 1px dotted black;border-radius: 0.25em;box-sizing: border-box;margin-bottom: 0.5em;}#sk-container-id-1 div.sk-estimator:hover {background-color: #d4ebff;}#sk-container-id-1 div.sk-parallel-item::after {content: \"\";width: 100%;border-bottom: 1px solid gray;flex-grow: 1;}#sk-container-id-1 div.sk-label:hover label.sk-toggleable__label {background-color: #d4ebff;}#sk-container-id-1 div.sk-serial::before {content: \"\";position: absolute;border-left: 1px solid gray;box-sizing: border-box;top: 0;bottom: 0;left: 50%;z-index: 0;}#sk-container-id-1 div.sk-serial {display: flex;flex-direction: column;align-items: center;background-color: white;padding-right: 0.2em;padding-left: 0.2em;position: relative;}#sk-container-id-1 div.sk-item {position: relative;z-index: 1;}#sk-container-id-1 div.sk-parallel {display: flex;align-items: stretch;justify-content: center;background-color: white;position: relative;}#sk-container-id-1 div.sk-item::before, #sk-container-id-1 div.sk-parallel-item::before {content: \"\";position: absolute;border-left: 1px solid gray;box-sizing: border-box;top: 0;bottom: 0;left: 50%;z-index: -1;}#sk-container-id-1 div.sk-parallel-item {display: flex;flex-direction: column;z-index: 1;position: relative;background-color: white;}#sk-container-id-1 div.sk-parallel-item:first-child::after {align-self: flex-end;width: 50%;}#sk-container-id-1 div.sk-parallel-item:last-child::after {align-self: flex-start;width: 50%;}#sk-container-id-1 div.sk-parallel-item:only-child::after {width: 0;}#sk-container-id-1 div.sk-dashed-wrapped {border: 1px dashed gray;margin: 0 0.4em 0.5em 0.4em;box-sizing: border-box;padding-bottom: 0.4em;background-color: white;}#sk-container-id-1 div.sk-label label {font-family: monospace;font-weight: bold;display: inline-block;line-height: 1.2em;}#sk-container-id-1 div.sk-label-container {text-align: center;}#sk-container-id-1 div.sk-container {/* jupyter's `normalize.less` sets `[hidden] { display: none; }` but bootstrap.min.css set `[hidden] { display: none !important; }` so we also need the `!important` here to be able to override the default hidden behavior on the sphinx rendered scikit-learn.org. See: https://github.com/scikit-learn/scikit-learn/issues/21755 */display: inline-block !important;position: relative;}#sk-container-id-1 div.sk-text-repr-fallback {display: none;}</style><div id=\"sk-container-id-1\" class=\"sk-top-container\"><div class=\"sk-text-repr-fallback\"><pre>DummyClassifier(strategy=&#x27;uniform&#x27;)</pre><b>In a Jupyter environment, please rerun this cell to show the HTML representation or trust the notebook. <br />On GitHub, the HTML representation is unable to render, please try loading this page with nbviewer.org.</b></div><div class=\"sk-container\" hidden><div class=\"sk-item\"><div class=\"sk-estimator sk-toggleable\"><input class=\"sk-toggleable__control sk-hidden--visually\" id=\"sk-estimator-id-1\" type=\"checkbox\" checked><label for=\"sk-estimator-id-1\" class=\"sk-toggleable__label sk-toggleable__label-arrow\">DummyClassifier</label><div class=\"sk-toggleable__content\"><pre>DummyClassifier(strategy=&#x27;uniform&#x27;)</pre></div></div></div></div></div>"
            ]
          },
          "metadata": {},
          "execution_count": 3
        }
      ]
    },
    {
      "cell_type": "markdown",
      "source": [
        "The code below generates predictions on the test set, and outputs the predictions into a CSV file."
      ],
      "metadata": {
        "id": "F3pMT8VlEk15"
      }
    },
    {
      "cell_type": "code",
      "source": [
        "# Generate predictions on the test set\n",
        "df_test = pd.read_csv('edx_test.csv')\n",
        "predictions = dummy_model.predict(df_test)\n",
        "\n",
        "# Save your predictions as a CSV\n",
        "to_save = df_test[['userid_DI']].copy()\n",
        "to_save.loc[:, 'certified'] = predictions\n",
        "to_save.to_csv('submission.csv', index=False)\n",
        "\n",
        "# See below for instructions on how to upload submission.csv to Kaggle,\n",
        "# in order to evaluate your model and get points."
      ],
      "metadata": {
        "id": "W1vMUKAVeDWK"
      },
      "execution_count": 4,
      "outputs": []
    },
    {
      "cell_type": "markdown",
      "source": [
        "### **[5 Pts] Model Comparison**\n",
        "\n",
        "**Instructions**: Run at least 2 different classification models. The classification models we have learned in class are: [Logistic Regression](https://scikit-learn.org/stable/modules/generated/sklearn.linear_model.LogisticRegression.html), [k-Nearest Neighbors](https://scikit-learn.org/stable/modules/generated/sklearn.neighbors.KNeighborsClassifier.html), [Decision Trees](https://scikit-learn.org/stable/modules/generated/sklearn.tree.DecisionTreeClassifier.html), [Random Forests](https://scikit-learn.org/stable/modules/generated/sklearn.ensemble.RandomForestClassifier.html), and [AdaBoost](https://scikit-learn.org/stable/modules/generated/sklearn.ensemble.AdaBoostClassifier.html), [Neural Networks](https://scikit-learn.org/stable/modules/neural_networks_supervised.html). For each model, try at least 2 different hyperparameter settings.\n",
        "\n",
        "Then, make one or more visualizations that let you compare the models you trained. Sample visualizations you can make include confusion matrices, or graphs of train and validation accuracy/error. See past section and homework code for how to make these visualizations."
      ],
      "metadata": {
        "id": "r4Sv5DRBOJ_Q"
      }
    },
    {
      "cell_type": "code",
      "source": [
        "import pandas as pd\n",
        "import numpy as np\n",
        "from sklearn.preprocessing import StandardScaler\n",
        "from sklearn.impute import SimpleImputer\n",
        "from sklearn.metrics import accuracy_score\n",
        "from sklearn.model_selection import train_test_split, GridSearchCV\n",
        "from sklearn.neighbors import KNeighborsClassifier\n",
        "from sklearn.ensemble import RandomForestClassifier, AdaBoostClassifier\n",
        "\n",
        "# Load the data\n",
        "df_train = pd.read_csv('edx_train.csv')\n",
        "df_test = pd.read_csv('edx_test.csv')\n",
        "target = \"certified\"\n",
        "to_save = df_test[['userid_DI']].copy() # save for submission\n",
        "\n",
        "# Preprocessing data\n",
        "# Removing target category\n",
        "y_train = df_train[target]\n",
        "df_train = df_train.drop(target, axis=1)\n",
        "\n",
        "# Changing start and end date to time_taken\n",
        "df_train['start_time_DI'] = pd.to_datetime(df_train['start_time_DI'], format='%m/%d/%y')\n",
        "df_train['last_event_DI'] = pd.to_datetime(df_train['last_event_DI'], format='%m/%d/%y')\n",
        "df_test['start_time_DI'] = pd.to_datetime(df_test['start_time_DI'], format='%m/%d/%y')\n",
        "df_test['last_event_DI'] = pd.to_datetime(df_test['last_event_DI'], format='%m/%d/%y')\n",
        "\n",
        "df_train['time_taken'] = (df_train['last_event_DI'] - df_train['start_time_DI']).dt.days\n",
        "df_test['time_taken'] = (df_test['last_event_DI'] - df_test['start_time_DI']).dt.days\n",
        "\n",
        "df_train = df_train.drop(['start_time_DI', 'last_event_DI'], axis=1)\n",
        "df_test = df_test.drop(['start_time_DI', 'last_event_DI'], axis=1)\n",
        "\n",
        "# Splitting course_id to school, course, and year\n",
        "df_train[['school', 'course', 'year']] = df_train['course_id'].str.split('/', expand=True)\n",
        "df_test[['school', 'course', 'year']] = df_test['course_id'].str.split('/', expand=True)\n",
        "\n",
        "# Removing userid_DI (doesn't provide useful info) & course_id (redundant)\n",
        "df_train = df_train.drop(['course_id', 'userid_DI'], axis=1)\n",
        "df_test = df_test.drop(['course_id', 'userid_DI'], axis=1)\n",
        "\n",
        "# Changing categorical variables\n",
        "df_train = pd.get_dummies(df_train)\n",
        "df_test = pd.get_dummies(df_test)\n",
        "\n",
        "# Align columns of test and train data\n",
        "df_train, df_test = df_train.align(df_test, join='left', axis=1, fill_value=0)\n",
        "\n",
        "# Dealing with NaNs\n",
        "imputer = SimpleImputer(strategy='most_frequent')\n",
        "df_train = imputer.fit_transform(df_train)\n",
        "df_test = imputer.transform(df_test)\n",
        "\n",
        "# Standardizing the data\n",
        "scaler = StandardScaler().fit(df_train)\n",
        "df_train_standardized = scaler.transform(df_train)\n",
        "df_test_standardized = scaler.transform(df_test)\n",
        "\n",
        "X_train, X_val, Y_train, Y_val = train_test_split(df_train_standardized, y_train, test_size=0.1)\n",
        "\n",
        "# Train and Evaluate Models\n",
        "\n",
        "# GridSearch with kNN\n",
        "param_knn = {\n",
        "    'n_neighbors': [5, 10, 15, 20, 25, 30, 35, 40, 45, 50],\n",
        "    'weights': ['uniform', 'distance'],\n",
        "    'leaf_size': [10, 20, 30, 40, 50, 60, 70, 80]\n",
        "}\n",
        "\n",
        "search_knn = GridSearchCV(KNeighborsClassifier(), param_knn, cv=5, scoring='accuracy').fit(X_train, Y_train)\n",
        "print(\"Best kNN parameters found: \", search_knn.best_params_)\n",
        "print(\"Best kNN cross-validation accuracy: \", search_knn.best_score_)\n",
        "\n",
        "# GridSearch with RandomForest\n",
        "param_rf = {\n",
        "    'n_estimators': [100, 200, 300],\n",
        "    'max_depth': [None, 10, 20, 30],\n",
        "    'min_samples_split': [2, 5, 10],\n",
        "    'min_samples_leaf': [1, 2, 4]\n",
        "}\n",
        "\n",
        "search_rf = GridSearchCV(RandomForestClassifier(), param_rf, cv=5, scoring='accuracy').fit(X_train, Y_train)\n",
        "print(\"Best RandomForest parameters found: \", search_rf.best_params_)\n",
        "print(\"Best RandomForest cross-validation accuracy: \", search_rf.best_score_)\n",
        "\n",
        "# GridSearch with AdaBoost\n",
        "param_ada = {\n",
        "    'n_estimators': [50, 100, 150, 200],\n",
        "    'learning_rate': [0.01, 0.1, 1, 10]\n",
        "}\n",
        "\n",
        "search_ada = GridSearchCV(AdaBoostClassifier(), param_ada, cv=5, scoring='accuracy').fit(X_train, Y_train)\n",
        "print(\"Best AdaBoost parameters found: \", search_ada.best_params_)\n",
        "print(\"Best AdaBoost cross-validation accuracy: \", search_ada.best_score_)\n",
        "\n",
        "# Best model\n",
        "best_model = max(\n",
        "    (search_knn, search_rf, search_ada),\n",
        "    key=lambda gs: gs.best_score_\n",
        ").best_estimator_\n",
        "\n",
        "# Train model on full training set\n",
        "best_model.fit(df_train_standardized, y_train)\n",
        "\n",
        "# Submission\n",
        "\n",
        "# Predictions\n",
        "predictions = best_model.predict(df_test_standardized)\n",
        "\n",
        "# Save your predictions as a CSV\n",
        "to_save['certified'] = predictions\n",
        "to_save.to_csv('submission.csv', index=False)\n"
      ],
      "metadata": {
        "id": "Xx8AmxPLKXq_",
        "outputId": "4d152f98-4832-446e-8f59-22fb13ee2230",
        "colab": {
          "base_uri": "https://localhost:8080/"
        }
      },
      "execution_count": 18,
      "outputs": [
        {
          "output_type": "stream",
          "name": "stdout",
          "text": [
            "Best kNN parameters found:  {'leaf_size': 10, 'n_neighbors': 15, 'weights': 'distance'}\n",
            "Best kNN cross-validation accuracy:  0.9300941677476672\n",
            "Best RandomForest parameters found:  {'max_depth': 30, 'min_samples_leaf': 1, 'min_samples_split': 10, 'n_estimators': 100}\n",
            "Best RandomForest cross-validation accuracy:  0.9739910483504952\n",
            "Best AdaBoost parameters found:  {'learning_rate': 1, 'n_estimators': 150}\n",
            "Best AdaBoost cross-validation accuracy:  0.9640950658095916\n"
          ]
        }
      ]
    },
    {
      "cell_type": "code",
      "source": [
        "import matplotlib.pyplot as plt\n",
        "\n",
        "models = [\n",
        "    search_knn.best_estimator_,\n",
        "    search_rf.best_estimator_,\n",
        "    search_ada.best_estimator_\n",
        "]\n",
        "\n",
        "train_accuracies = []\n",
        "val_accuracies = []\n",
        "\n",
        "for model in models:\n",
        "    model.fit(X_train, Y_train)\n",
        "    train_accuracy = accuracy_score(Y_train, model.predict(X_train))\n",
        "    val_accuracy = accuracy_score(Y_val, model.predict(X_val))\n",
        "    train_accuracies.append(train_accuracy)\n",
        "    val_accuracies.append(val_accuracy)\n",
        "\n",
        "# Visualization\n",
        "labels = ['knn', 'rf', 'ada']\n",
        "x = np.arange(len(labels))\n",
        "fig, ax = plt.subplots()\n",
        "width = 0.4\n",
        "\n",
        "rects1 = ax.bar(x - width/2, train_accuracies, width, label='Train Accuracy')\n",
        "rects2 = ax.bar(x + width/2, val_accuracies, width, label='Validation Accuracy')\n",
        "\n",
        "ax.set_ylabel('Accuracy')\n",
        "ax.set_title('Train and Validation Accuracy by Model')\n",
        "ax.set_xticks(x)\n",
        "ax.set_xticklabels(labels)\n",
        "ax.legend()\n",
        "\n",
        "fig.tight_layout()\n",
        "plt.show()\n"
      ],
      "metadata": {
        "id": "-RAkdCY9WrBg",
        "outputId": "6bdfde3d-b0c8-49fb-d6da-38b30193137f",
        "colab": {
          "base_uri": "https://localhost:8080/",
          "height": 487
        }
      },
      "execution_count": 17,
      "outputs": [
        {
          "output_type": "display_data",
          "data": {
            "text/plain": [
              "<Figure size 640x480 with 1 Axes>"
            ],
            "image/png": "[encoded data removed]"
          },
          "metadata": {}
        }
      ]
    },
    {
      "cell_type": "markdown",
      "source": [
        "**Remember to submit your submissions CSV FILE on Kaggle!** 40 pts come from your accuracy on the private test data.\n",
        "\n",
        "Attend section on Thurs 5/11 for a demo of how to uppload submissions to Kaggle. We also have screenshots below (ingore summer and homework number in pictures)\n",
        "\n",
        "Step 1: See the list of files on Colab\n",
        "\n",
        "![See Colab Files](https://courses.cs.washington.edu/courses/cse416/22su/homework/hw4/programming/1_colab_see_files.jpg)\n",
        "\n",
        "Step 2: Download `submission.csv`\n",
        "\n",
        "![Download Colab File](https://courses.cs.washington.edu/courses/cse416/22su/homework/hw4/programming/2_colab_download_file.jpg)\n",
        "\n",
        "Step 3: Join the Kaggle competition.\n",
        "\n",
        "![Join the Kaggle Competition](https://courses.cs.washington.edu/courses/cse416/22su/homework/hw4/programming/3_kaggle_join_competition.jpg)\n",
        "\n",
        "Step 4: Enusre your team name in Kaggle matches the one at the top of this notebook!\n",
        "\n",
        "![Check Team Name](https://courses.cs.washington.edu/courses/cse416/22su/homework/hw4/programming/4_kaggle_team_name.jpg)\n",
        "\n",
        "Step 5: Upload `submission.csv` to Kaggle\n",
        "\n",
        "![Upload submission.csv](https://courses.cs.washington.edu/courses/cse416/22su/homework/hw4/programming/6_kaggle_upload_submission.jpg)\n",
        "\n"
      ],
      "metadata": {
        "id": "xz_Yk6BDXk1H"
      }
    },
    {
      "cell_type": "markdown",
      "source": [
        "### **Discussion**\n",
        "\n"
      ],
      "metadata": {
        "id": "aOwxTjy3OPh6"
      }
    },
    {
      "cell_type": "markdown",
      "source": [
        "#### **[7 Pts] Training the Models**\n",
        "\n",
        "**Instructions**: Discuss what models you tried, and what you did to improve your initial predictions. Discuss what hyperparameters you tried, and which hyperparameters seemed important for your final model. Finally, discuss what you are inferring from the above visualiation(s)."
      ],
      "metadata": {
        "id": "W8wZm-0cOe6U"
      }
    },
    {
      "cell_type": "markdown",
      "source": [
        "I had originally thought that kNN would be the best model, so I originally spent most of my time tuning the hyperparameters with that model, and the best accuracy I could get was around 91%-92%. Then I realized that I could use grid search, so I implemented that and got 93% accuracy. Then I decided to use a new model, random forest and adaboost. I implemented grid search for hyperparameters to figure out the best model. For random forest, which was the model I ended up using, I looked at nearly all the hyperparameters - max depth, min samples split, min samples leaf, and number of estimators. Honestly, when looking at the sklearn guide for random forest, I could've worked with more hyperparaters, but it was already the longest model to train, sometimes taking more than 5 minutes. Looking at the data the most important hyperparameters were the ones that defined the structure of the tree (max depth, min samples split, min samples leaf). Lastly, looking at the visualization, I can clearly see that the validation accuracy of the best random forest model is the best, next is the adaboost, and last is kNN."
      ],
      "metadata": {
        "id": "1QFdF3wSXLgd"
      }
    },
    {
      "cell_type": "markdown",
      "source": [
        "#### **[3 Pts] Feature Selection**\n",
        "\n",
        "**Instructions**: Discuss what features you used and whether you did some transformations on them. What features seemed important for your final model?\n",
        "\n"
      ],
      "metadata": {
        "id": "4uCjBLL1Ow-Q"
      }
    },
    {
      "cell_type": "markdown",
      "source": [
        "For features, I tried to use all of them, but I did adjust the data. First, I changed the start and end date to total time taken, I removed the userID (since everyone is unique), I split the courseID to school, course, and year. In terms of which features seemed important for my final model, I believe that all of them were important, my model did not use feature selection, I only preprocessed the data a little bit."
      ],
      "metadata": {
        "id": "oOGdC9EGXKst"
      }
    },
    {
      "cell_type": "markdown",
      "source": [
        "#### **[5 Pts] Ethical Implications**\n",
        "\n",
        "**Instructions**: Consider and discuss the ethical implications of using the model you trained. Imagine you were hired to work as a data scientist for an online education platform (exciting, right?). They want to use your model to predict which students they should tailor their course material towards so they can maximize their profits. Their idea is to use the model to help predict which student groups (i.e. from specific countries or certain educational backgrounds) would make them the most money by getting the most participants to complete their paid certificate program. Are there any ethical considerations we should think about before acting on that plan?"
      ],
      "metadata": {
        "id": "nbodmlrhPCJv"
      }
    },
    {
      "cell_type": "markdown",
      "source": [
        "A model like this could introduce bias, which would result in unfair treatment for some groups of people. This could lead to discrimination. Additionally students should be made aware that their data is being used for their future course material. Lastly, but most importantly, I believe taht maximizing profit shouldn't be sole factor when dealing with a topic as sensitive as a student's education."
      ],
      "metadata": {
        "id": "w3WVhDKSXMAt"
      }
    }
  ]
}